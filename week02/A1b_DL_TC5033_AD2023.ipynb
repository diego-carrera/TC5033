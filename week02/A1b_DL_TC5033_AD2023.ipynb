{
 "cells": [
  {
   "cell_type": "markdown",
   "metadata": {},
   "source": [
    "# TC 5033\n",
    "## Deep Learning\n",
    "## Fully Connected Deep Neural Networks\n",
    "\n",
    "#### Activity 1b: Implementing a Fully Connected Network for Kaggle ASL Dataset\n",
    "\n",
    "- Objective\n",
    "\n",
    "The aim of this part of the activity is to apply your understanding of Fully Connected Networks by implementing a multilayer network for the [Kaggle ASL (American Sign Language) dataset](https://www.kaggle.com/datasets/grassknoted/asl-alphabet). While you have been provided with a complete solution for a Fully Connected Network using Numpy for the MNIST dataset, you are encouraged to try to come up with the solution.\n",
    "\n",
    "- Instructions\n",
    "\n",
    "    This activity requires submission in teams of 3 or 4 members. Submissions from smaller or larger teams will not be accepted unless prior approval has been granted (only due to exceptional circumstances). While teamwork is encouraged, each member is expected to contribute individually to the assignment. The final submission should feature the best arguments and solutions from each team member. Only one person per team needs to submit the completed work, but it is imperative that the names of all team members are listed in a Markdown cell at the very beginning of the notebook (either the first or second cell). Failure to include all team member names will result in the grade being awarded solely to the individual who submitted the assignment, with zero points given to other team members (no exceptions will be made to this rule).\n",
    "\n",
    "    Load and Preprocess Data: You are provided a starter code to load the data. Be sure to understand the code.\n",
    "\n",
    "    Review MNIST Notebook (Optional): Before diving into this activity, you have the option to revisit the MNIST example to refresh your understanding of how to build a Fully Connected Network using Numpy.\n",
    "\n",
    "    Start Fresh: Although you can refer to the MNIST solution at any point, try to implement the network for the ASL dataset on your own. This will reinforce your learning and understanding of the architecture and mathematics involved.\n",
    "\n",
    "    Implement Forward and Backward Pass: Write the code to perform the forward and backward passes, keeping in mind the specific challenges and characteristics of the ASL dataset.\n",
    "    \n",
    "     Design the Network: Create the architecture of the Fully Connected Network tailored for the ASL dataset. Choose the number of hidden layers, neurons, and hyperparameters judiciously.\n",
    "\n",
    "    Train the Model: Execute the training loop, ensuring to track performance metrics such as loss and accuracy.\n",
    "\n",
    "    Analyze and Document: Use Markdown cells to document in detail the choices you made in terms of architecture and hyperparameters, you may use figures, equations, etc to aid in your explanations. Include any metrics that help justify these choices and discuss the model's performance.  \n",
    "\n",
    "- Evaluation Criteria\n",
    "\n",
    "    - Code Readability and Comments\n",
    "    - Appropriateness of chosen architecture and hyperparameters for the ASL dataset\n",
    "    - Performance of the model on the ASL dataset (at least 70% acc)\n",
    "    - Quality of Markdown documentation\n",
    "\n",
    "- Submission\n",
    "\n",
    "Submit this Jupyter Notebook in canvas with your complete solution, ensuring your code is well-commented and includes Markdown cells that explain your design choices, results, and any challenges you encountered.\n"
   ]
  },
  {
   "cell_type": "code",
   "execution_count": 1,
   "metadata": {},
   "outputs": [],
   "source": [
    "import numpy as np\n",
    "import string\n",
    "import pandas as pd\n",
    "import matplotlib.pyplot as plt\n",
    "import cv2 as cv\n",
    "import os\n",
    "\n",
    "%load_ext autoreload\n",
    "%autoreload 2\n",
    "#################################\n",
    "%matplotlib inline\n"
   ]
  },
  {
   "cell_type": "code",
   "execution_count": 2,
   "metadata": {},
   "outputs": [],
   "source": [
    "# DATA_PATH = '/media/pepe/DataUbuntu/Databases/asl_data/'\n",
    "# DATA_PATH = '/home/pepe/Documents/github_repos/datasets/asl_data'\n",
    "DATA_PATH = './asl_data'\n",
    "train_df = pd.read_csv(os.path.join(DATA_PATH, 'sign_mnist_train.csv'))\n",
    "valid_df = pd.read_csv(os.path.join(DATA_PATH, 'sign_mnist_valid.csv'))"
   ]
  },
  {
   "cell_type": "code",
   "execution_count": 3,
   "metadata": {},
   "outputs": [
    {
     "data": {
      "text/html": [
       "<div>\n",
       "<style scoped>\n",
       "    .dataframe tbody tr th:only-of-type {\n",
       "        vertical-align: middle;\n",
       "    }\n",
       "\n",
       "    .dataframe tbody tr th {\n",
       "        vertical-align: top;\n",
       "    }\n",
       "\n",
       "    .dataframe thead th {\n",
       "        text-align: right;\n",
       "    }\n",
       "</style>\n",
       "<table border=\"1\" class=\"dataframe\">\n",
       "  <thead>\n",
       "    <tr style=\"text-align: right;\">\n",
       "      <th></th>\n",
       "      <th>label</th>\n",
       "      <th>pixel1</th>\n",
       "      <th>pixel2</th>\n",
       "      <th>pixel3</th>\n",
       "      <th>pixel4</th>\n",
       "      <th>pixel5</th>\n",
       "      <th>pixel6</th>\n",
       "      <th>pixel7</th>\n",
       "      <th>pixel8</th>\n",
       "      <th>pixel9</th>\n",
       "      <th>...</th>\n",
       "      <th>pixel775</th>\n",
       "      <th>pixel776</th>\n",
       "      <th>pixel777</th>\n",
       "      <th>pixel778</th>\n",
       "      <th>pixel779</th>\n",
       "      <th>pixel780</th>\n",
       "      <th>pixel781</th>\n",
       "      <th>pixel782</th>\n",
       "      <th>pixel783</th>\n",
       "      <th>pixel784</th>\n",
       "    </tr>\n",
       "  </thead>\n",
       "  <tbody>\n",
       "    <tr>\n",
       "      <th>0</th>\n",
       "      <td>3</td>\n",
       "      <td>107</td>\n",
       "      <td>118</td>\n",
       "      <td>127</td>\n",
       "      <td>134</td>\n",
       "      <td>139</td>\n",
       "      <td>143</td>\n",
       "      <td>146</td>\n",
       "      <td>150</td>\n",
       "      <td>153</td>\n",
       "      <td>...</td>\n",
       "      <td>207</td>\n",
       "      <td>207</td>\n",
       "      <td>207</td>\n",
       "      <td>207</td>\n",
       "      <td>206</td>\n",
       "      <td>206</td>\n",
       "      <td>206</td>\n",
       "      <td>204</td>\n",
       "      <td>203</td>\n",
       "      <td>202</td>\n",
       "    </tr>\n",
       "    <tr>\n",
       "      <th>1</th>\n",
       "      <td>6</td>\n",
       "      <td>155</td>\n",
       "      <td>157</td>\n",
       "      <td>156</td>\n",
       "      <td>156</td>\n",
       "      <td>156</td>\n",
       "      <td>157</td>\n",
       "      <td>156</td>\n",
       "      <td>158</td>\n",
       "      <td>158</td>\n",
       "      <td>...</td>\n",
       "      <td>69</td>\n",
       "      <td>149</td>\n",
       "      <td>128</td>\n",
       "      <td>87</td>\n",
       "      <td>94</td>\n",
       "      <td>163</td>\n",
       "      <td>175</td>\n",
       "      <td>103</td>\n",
       "      <td>135</td>\n",
       "      <td>149</td>\n",
       "    </tr>\n",
       "    <tr>\n",
       "      <th>2</th>\n",
       "      <td>2</td>\n",
       "      <td>187</td>\n",
       "      <td>188</td>\n",
       "      <td>188</td>\n",
       "      <td>187</td>\n",
       "      <td>187</td>\n",
       "      <td>186</td>\n",
       "      <td>187</td>\n",
       "      <td>188</td>\n",
       "      <td>187</td>\n",
       "      <td>...</td>\n",
       "      <td>202</td>\n",
       "      <td>201</td>\n",
       "      <td>200</td>\n",
       "      <td>199</td>\n",
       "      <td>198</td>\n",
       "      <td>199</td>\n",
       "      <td>198</td>\n",
       "      <td>195</td>\n",
       "      <td>194</td>\n",
       "      <td>195</td>\n",
       "    </tr>\n",
       "    <tr>\n",
       "      <th>3</th>\n",
       "      <td>2</td>\n",
       "      <td>211</td>\n",
       "      <td>211</td>\n",
       "      <td>212</td>\n",
       "      <td>212</td>\n",
       "      <td>211</td>\n",
       "      <td>210</td>\n",
       "      <td>211</td>\n",
       "      <td>210</td>\n",
       "      <td>210</td>\n",
       "      <td>...</td>\n",
       "      <td>235</td>\n",
       "      <td>234</td>\n",
       "      <td>233</td>\n",
       "      <td>231</td>\n",
       "      <td>230</td>\n",
       "      <td>226</td>\n",
       "      <td>225</td>\n",
       "      <td>222</td>\n",
       "      <td>229</td>\n",
       "      <td>163</td>\n",
       "    </tr>\n",
       "    <tr>\n",
       "      <th>4</th>\n",
       "      <td>12</td>\n",
       "      <td>164</td>\n",
       "      <td>167</td>\n",
       "      <td>170</td>\n",
       "      <td>172</td>\n",
       "      <td>176</td>\n",
       "      <td>179</td>\n",
       "      <td>180</td>\n",
       "      <td>184</td>\n",
       "      <td>185</td>\n",
       "      <td>...</td>\n",
       "      <td>92</td>\n",
       "      <td>105</td>\n",
       "      <td>105</td>\n",
       "      <td>108</td>\n",
       "      <td>133</td>\n",
       "      <td>163</td>\n",
       "      <td>157</td>\n",
       "      <td>163</td>\n",
       "      <td>164</td>\n",
       "      <td>179</td>\n",
       "    </tr>\n",
       "  </tbody>\n",
       "</table>\n",
       "<p>5 rows × 785 columns</p>\n",
       "</div>"
      ],
      "text/plain": [
       "   label  pixel1  pixel2  pixel3  pixel4  pixel5  pixel6  pixel7  pixel8  \\\n",
       "0      3     107     118     127     134     139     143     146     150   \n",
       "1      6     155     157     156     156     156     157     156     158   \n",
       "2      2     187     188     188     187     187     186     187     188   \n",
       "3      2     211     211     212     212     211     210     211     210   \n",
       "4     12     164     167     170     172     176     179     180     184   \n",
       "\n",
       "   pixel9  ...  pixel775  pixel776  pixel777  pixel778  pixel779  pixel780  \\\n",
       "0     153  ...       207       207       207       207       206       206   \n",
       "1     158  ...        69       149       128        87        94       163   \n",
       "2     187  ...       202       201       200       199       198       199   \n",
       "3     210  ...       235       234       233       231       230       226   \n",
       "4     185  ...        92       105       105       108       133       163   \n",
       "\n",
       "   pixel781  pixel782  pixel783  pixel784  \n",
       "0       206       204       203       202  \n",
       "1       175       103       135       149  \n",
       "2       198       195       194       195  \n",
       "3       225       222       229       163  \n",
       "4       157       163       164       179  \n",
       "\n",
       "[5 rows x 785 columns]"
      ]
     },
     "execution_count": 3,
     "metadata": {},
     "output_type": "execute_result"
    }
   ],
   "source": [
    "train_df.head()"
   ]
  },
  {
   "cell_type": "markdown",
   "metadata": {},
   "source": [
    "### Importar Images"
   ]
  },
  {
   "cell_type": "code",
   "execution_count": 4,
   "metadata": {},
   "outputs": [],
   "source": [
    "y_train = np.array(train_df['label'])\n",
    "y_val = np.array(valid_df['label'])\n",
    "del train_df['label']\n",
    "del valid_df['label']\n",
    "x_train = train_df.values.astype(np.float32)\n",
    "x_val = valid_df.values.astype(np.float32)"
   ]
  },
  {
   "cell_type": "code",
   "execution_count": 5,
   "metadata": {},
   "outputs": [
    {
     "name": "stdout",
     "output_type": "stream",
     "text": [
      "(27455, 784)\n",
      "(27455,)\n",
      "(7172, 784)\n",
      "(7172,)\n"
     ]
    }
   ],
   "source": [
    "# check shapes\n",
    "print(x_train.shape)\n",
    "print(y_train.shape)\n",
    "print(x_val.shape)\n",
    "print(y_val.shape)\n"
   ]
  },
  {
   "cell_type": "code",
   "execution_count": 6,
   "metadata": {
    "code_folding": []
   },
   "outputs": [],
   "source": [
    "def split_val_test(x, y, pct=0.5, shuffle=True):\n",
    "    '''\n",
    "    Create a function that will allow you to split the previously loaded validation set\n",
    "    into valition and test.\n",
    "    '''\n",
    "    if shuffle:\n",
    "        idx = np.random.permutation(len(x))\n",
    "        x = x[idx]\n",
    "        y = y[idx]\n",
    "    split = int(len(x) * pct)\n",
    "    return x[:split], y[:split], x[split:], y[split:]"
   ]
  },
  {
   "cell_type": "code",
   "execution_count": 7,
   "metadata": {},
   "outputs": [],
   "source": [
    "x_val, y_val, x_test, y_test = split_val_test(x_val, y_val)"
   ]
  },
  {
   "cell_type": "code",
   "execution_count": 8,
   "metadata": {},
   "outputs": [
    {
     "name": "stdout",
     "output_type": "stream",
     "text": [
      "x_train shape: (27455, 784) type: float32\n",
      "y_train shape: (27455,) type: int64\n",
      "x_val shape: (3586, 784) type: float32\n",
      "y_val shape: (3586,) type: int64\n",
      "x_test shape: (3586, 784) type: float32\n",
      "y_test shape: (3586,) type: int64\n"
     ]
    }
   ],
   "source": [
    "# check shapes and types\n",
    "print('x_train shape:', x_train.shape, 'type:', x_train.dtype)\n",
    "print('y_train shape:', y_train.shape, 'type:', y_train.dtype)\n",
    "print('x_val shape:', x_val.shape, 'type:', x_val.dtype)\n",
    "print('y_val shape:', y_val.shape, 'type:', y_val.dtype)\n",
    "print('x_test shape:', x_test.shape, 'type:', x_test.dtype)\n",
    "print('y_test shape:', y_test.shape, 'type:', y_test.dtype)\n"
   ]
  },
  {
   "cell_type": "code",
   "execution_count": 9,
   "metadata": {},
   "outputs": [
    {
     "name": "stdout",
     "output_type": "stream",
     "text": [
      "24\n"
     ]
    }
   ],
   "source": [
    "### The following\n",
    "# remove j and z from the alphabet because they are extensions of other letters\n",
    "alphabet=list(string.ascii_lowercase)\n",
    "alphabet.remove('j')\n",
    "alphabet.remove('z')\n",
    "print(len(alphabet))"
   ]
  },
  {
   "cell_type": "markdown",
   "metadata": {},
   "source": [
    "### Normalise"
   ]
  },
  {
   "cell_type": "code",
   "execution_count": 10,
   "metadata": {},
   "outputs": [],
   "source": [
    "def normalise(x_mean, x_std, x_data):\n",
    "    \"\"\"\n",
    "    Normalise the data by subtracting the mean and dividing by the standard deviation.\n",
    "    x_mean: mean of the data\n",
    "    x_std: standard deviation of the data\n",
    "    x_data: data to be normalised\n",
    "    \"\"\"\n",
    "    return (x_data - x_mean) / x_std\n"
   ]
  },
  {
   "cell_type": "code",
   "execution_count": 11,
   "metadata": {},
   "outputs": [],
   "source": [
    "x_mean = np.mean(x_train)\n",
    "x_std = np.std(x_train)\n",
    "\n",
    "x_train = normalise(x_mean, x_std, x_train)\n",
    "x_val = normalise(x_mean, x_std, x_val)\n",
    "x_test = normalise(x_mean, x_std, x_test)\n"
   ]
  },
  {
   "cell_type": "code",
   "execution_count": 12,
   "metadata": {},
   "outputs": [
    {
     "data": {
      "text/plain": [
       "(3.6268384e-06, 0.99999946)"
      ]
     },
     "execution_count": 12,
     "metadata": {},
     "output_type": "execute_result"
    }
   ],
   "source": [
    "x_train.mean(), x_train.std()\n"
   ]
  },
  {
   "cell_type": "code",
   "execution_count": 13,
   "metadata": {},
   "outputs": [
    {
     "data": {
      "text/plain": [
       "(0.016213331, 1.0035003)"
      ]
     },
     "execution_count": 13,
     "metadata": {},
     "output_type": "execute_result"
    }
   ],
   "source": [
    "x_val.mean(), x_val.std()\n"
   ]
  },
  {
   "cell_type": "code",
   "execution_count": 14,
   "metadata": {},
   "outputs": [
    {
     "data": {
      "text/plain": [
       "(0.03629113, 1.0075918)"
      ]
     },
     "execution_count": 14,
     "metadata": {},
     "output_type": "execute_result"
    }
   ],
   "source": [
    "x_test.mean(), x_test.std()"
   ]
  },
  {
   "cell_type": "markdown",
   "metadata": {},
   "source": [
    "### Graficar muestras"
   ]
  },
  {
   "cell_type": "code",
   "execution_count": 15,
   "metadata": {},
   "outputs": [],
   "source": [
    "def plot_letter(image):\n",
    "    \"\"\"\n",
    "    Plot the image of a letter.\n",
    "    \"\"\"\n",
    "    plt.figure(figsize=(5, 5))\n",
    "    plt.imshow(image.reshape(28, 28), cmap='gray')\n",
    "    plt.axis('off')\n",
    "    plt.show()"
   ]
  },
  {
   "cell_type": "code",
   "execution_count": 16,
   "metadata": {},
   "outputs": [
    {
     "data": {
      "image/png": "[encoded data removed]",
      "text/plain": [
       "<Figure size 500x500 with 1 Axes>"
      ]
     },
     "metadata": {},
     "output_type": "display_data"
    },
    {
     "name": "stdout",
     "output_type": "stream",
     "text": [
      "The label is b\n"
     ]
    }
   ],
   "source": [
    "# plot a random letter\n",
    "random_index = np.random.randint(len(y_test))\n",
    "plot_letter(x_test[random_index])\n",
    "print(f'The label is {alphabet[y_test[random_index]]}')\n"
   ]
  },
  {
   "cell_type": "code",
   "execution_count": 17,
   "metadata": {},
   "outputs": [
    {
     "data": {
      "image/png": "[encoded data removed]",
      "text/plain": [
       "<Figure size 2000x2000 with 24 Axes>"
      ]
     },
     "metadata": {},
     "output_type": "display_data"
    }
   ],
   "source": [
    "# plot all the letters in the alphabet\n",
    "\n",
    "plt.figure(figsize=(20, 20))\n",
    "for i in range(len(alphabet)):\n",
    "    plt.subplot(5, 5, i+1)\n",
    "    plt.imshow(x_train[y_train == i][0].reshape(28, 28), cmap='gray')\n",
    "    plt.title(f'{alphabet[i]}')\n",
    "    plt.axis('off')\n"
   ]
  },
  {
   "cell_type": "markdown",
   "metadata": {},
   "source": [
    "### Ecuaciones para nuestro modelo\n",
    "\n",
    "\n",
    "$$z^1 = W^1 X + b^1$$\n",
    "\n",
    "$$a^1 = ReLU(z^1) $$\n",
    "\n",
    "$$z^2 = W^2 a^1 + b^2$$\n",
    "\n",
    "$$\\hat{y} = \\frac{e^{z^{2_k}}}{\\sum_j{e^{z_j}}}$$\n",
    "\n",
    "\n",
    "$$ \\mathcal{L}(\\hat{y}^{i}, y^{i}) =  - y^{i}  \\ln(\\hat{y}^{i}) = -\\ln(\\hat{y}^i)$$\n",
    "\n",
    "\n",
    "$$ \\mathcal{J}(w, b) =  \\frac{1}{num\\_samples} \\sum_{i=1}^{num\\_samples}-\\ln(\\hat{y}^{i})$$"
   ]
  },
  {
   "cell_type": "markdown",
   "metadata": {},
   "source": [
    "### Funciones adicionales"
   ]
  },
  {
   "cell_type": "code",
   "execution_count": 18,
   "metadata": {},
   "outputs": [],
   "source": [
    "# seed for reproducibility\n",
    "np.random.seed(42)"
   ]
  },
  {
   "cell_type": "markdown",
   "metadata": {},
   "source": [
    "#### Mini batches"
   ]
  },
  {
   "cell_type": "code",
   "execution_count": 19,
   "metadata": {},
   "outputs": [],
   "source": [
    "def create_minibatches(size, x, y, shuffle=True):\n",
    "  \"\"\"\n",
    "  Create minibatches of the data for the training process.\n",
    "  size: size of the minibatches\n",
    "  x: data\n",
    "  y: labels\n",
    "  shuffle: shuffle the data before creating the minibatches\n",
    "  \"\"\"\n",
    "\n",
    "  # assert that the data and labels have the same length\n",
    "  assert len(x) == len(y), 'data and labels have different lengths'\n",
    "  total_data = x.shape[0]\n",
    "  if shuffle:\n",
    "    idxs = np.arange(total_data)\n",
    "    np.random.shuffle(idxs)\n",
    "    x = x[idxs]\n",
    "    y = y[idxs]\n",
    "  \n",
    "  # create the minibatches\n",
    "  return ((x[i:i+size], y[i:i+size]) for i in range(0, total_data, size))"
   ]
  },
  {
   "cell_type": "code",
   "execution_count": 20,
   "metadata": {},
   "outputs": [
    {
     "name": "stdout",
     "output_type": "stream",
     "text": [
      "Number of minibatches: 214.4921875\n",
      "Size of minibatch X: (128, 784)\n",
      "Size of minibatch Y: (128,)\n"
     ]
    }
   ],
   "source": [
    "# test the function\n",
    "mb_size = 128\n",
    "mb_train = create_minibatches(mb_size, x_train, y_train)\n",
    "\n",
    "print('Number of minibatches:', len(x_train)/mb_size)\n",
    "print('Size of minibatch X:', mb_train.__next__()[0].shape)\n",
    "print('Size of minibatch Y:', mb_train.__next__()[1].shape)\n"
   ]
  },
  {
   "cell_type": "markdown",
   "metadata": {},
   "source": [
    "## Nuestra clase Linear, ReLU y Sequential"
   ]
  },
  {
   "cell_type": "code",
   "execution_count": 21,
   "metadata": {},
   "outputs": [],
   "source": [
    "class np_tensor(np.ndarray): pass"
   ]
  },
  {
   "cell_type": "markdown",
   "metadata": {},
   "source": [
    "###  Clase Linear"
   ]
  },
  {
   "cell_type": "code",
   "execution_count": 22,
   "metadata": {},
   "outputs": [],
   "source": [
    "class Linear():\n",
    "  \"\"\"\n",
    "  Class for a linear layer.\n",
    "  \"\"\"\n",
    "\n",
    "  def __init__(self, input_size, output_size):\n",
    "    \"\"\"\n",
    "    Init layer using Kaiming He initialization.\n",
    "    input_size: number of input neurons\n",
    "    output_size: number of output neurons\n",
    "    \"\"\"\n",
    "    self.weights = (np.random.randn(output_size, input_size) / np.sqrt(input_size/2)).view(np_tensor)\n",
    "    self.bias = (np.zeros((output_size, 1))).view(np_tensor)\n",
    "\n",
    "  def __call__(self, X):\n",
    "    \"\"\"\n",
    "    Forward pass, dot product of weights and input plus bias.\n",
    "    X: input data    \n",
    "    \"\"\"\n",
    "    return self.weights @ X + self.bias\n",
    "  \n",
    "  def backward(self, X, Z):\n",
    "    \"\"\"\n",
    "    Backward pass.\n",
    "    x: input data\n",
    "    grad: gradient from the previous layer\n",
    "    \"\"\"\n",
    "    # save the gradient on the gradient attribute\n",
    "    X.grad = self.weights.T @ Z.grad\n",
    "    self.weights.grad = Z.grad @ X.T\n",
    "    self.bias.grad = np.sum(Z.grad, axis=1, keepdims=True)"
   ]
  },
  {
   "cell_type": "markdown",
   "metadata": {},
   "source": [
    "### Clase ReLU"
   ]
  },
  {
   "cell_type": "code",
   "execution_count": 23,
   "metadata": {},
   "outputs": [],
   "source": [
    "class ReLU():\n",
    "  \"\"\"\n",
    "  Class for a ReLU activation layer\n",
    "  \"\"\"\n",
    "\n",
    "  def __call__(self, Z):\n",
    "    \"\"\"\n",
    "    Forward pass.\n",
    "    Z: input data\n",
    "    \"\"\"\n",
    "    return np.maximum(0, Z)\n",
    "  \n",
    "  def backward(self, Z, A):\n",
    "    \"\"\"\n",
    "    Backward pass.\n",
    "    Z: input data\n",
    "    A: output of the forward pass\n",
    "    \"\"\"\n",
    "    Z.grad = A.grad.copy()\n",
    "    Z.grad[Z <= 0] = 0"
   ]
  },
  {
   "cell_type": "markdown",
   "metadata": {},
   "source": [
    "### Clase Sequential"
   ]
  },
  {
   "cell_type": "code",
   "execution_count": 24,
   "metadata": {},
   "outputs": [],
   "source": [
    "class Sequential_layers():\n",
    "    def __init__(self, layers):\n",
    "        '''\n",
    "        layers - lista que contiene objetos de tipo Linear, ReLU\n",
    "        '''\n",
    "        self.layers = layers\n",
    "        self.x = None\n",
    "        self.outputs = {}\n",
    "    def __call__(self, X):\n",
    "        self.x = X \n",
    "        self.outputs['l0'] = self.x\n",
    "        for i, layer in enumerate(self.layers, 1):\n",
    "            self.x = layer(self.x)\n",
    "            self.outputs['l'+str(i)]=self.x\n",
    "        return self.x\n",
    "    def backward(self):\n",
    "        for i in reversed(range(len(self.layers))):\n",
    "            self.layers[i].backward(self.outputs['l'+str(i)], self.outputs['l'+str(i+1)])\n",
    "    def update(self, learning_rate = 1e-3):\n",
    "        for layer in self.layers:\n",
    "            if isinstance(layer, ReLU): continue\n",
    "            layer.weights = layer.weights - learning_rate * layer.weights.grad\n",
    "            layer.bias = layer.bias - learning_rate * layer.bias.grad\n",
    "    def predict(self, X):\n",
    "        return np.argmax(self.__call__(X))       \n",
    "        "
   ]
  },
  {
   "cell_type": "markdown",
   "metadata": {},
   "source": [
    "### Cost Function"
   ]
  },
  {
   "cell_type": "code",
   "execution_count": 25,
   "metadata": {},
   "outputs": [],
   "source": [
    "def softmaxXEntropy(x, y):\n",
    "  \"\"\"\n",
    "  Softmax and cross entropy loss.\n",
    "  x: input data\n",
    "  y: labels\n",
    "  \"\"\"\n",
    "\n",
    "  batch_size = x.shape[1]\n",
    "  exp_scores = np.exp(x)\n",
    "  probs = exp_scores / exp_scores.sum(axis=0)\n",
    "  preds = probs.copy()\n",
    "\n",
    "  # cost\n",
    "  y_hat = probs[y, np.arange(batch_size)]\n",
    "  cost = np.sum(-np.log(y_hat)) / batch_size\n",
    "\n",
    "  # gradient calculation\n",
    "  probs[y, np.arange(batch_size)] -= 1\n",
    "  x.grad = probs.copy()\n",
    "\n",
    "  return preds, cost"
   ]
  },
  {
   "cell_type": "markdown",
   "metadata": {},
   "source": [
    "### Loop de entrenamiento"
   ]
  },
  {
   "cell_type": "code",
   "execution_count": 26,
   "metadata": {},
   "outputs": [],
   "source": [
    "def train(model, epochs, mb_size=128, learning_rate=1e-3):\n",
    "  \"\"\"\n",
    "  Train the model.\n",
    "  model: model to be trained\n",
    "  epochs: number of epochs\n",
    "  mb_size: minibatch size\n",
    "  learning_rate: learning rate for the update\n",
    "  \"\"\"\n",
    "  for epoch in range(epochs):\n",
    "    for i, (x, y) in enumerate(create_minibatches(mb_size, x_train, y_train)):\n",
    "      scores = model(x.T.view(np_tensor))\n",
    "      _, cost = softmaxXEntropy(scores, y)\n",
    "      model.backward()\n",
    "      model.update(learning_rate=learning_rate)\n",
    "    print(f'epoch: {epoch+1} costo: {cost}, accuracy: {accuracy(x_val, y_val, mb_size)}')\n"
   ]
  },
  {
   "cell_type": "code",
   "execution_count": 27,
   "metadata": {},
   "outputs": [],
   "source": [
    "def accuracy(x, y, mb_size):\n",
    "  \"\"\"\n",
    "  Calculate the accuracy of the model.\n",
    "  x: data\n",
    "  y: labels\n",
    "  mb_size: minibatch size  \n",
    "  \"\"\"\n",
    "  correct = 0\n",
    "  total = 0\n",
    "  for i, (x, y) in enumerate(create_minibatches(mb_size, x, y)):\n",
    "    pred = model(x.T.view(np_tensor))\n",
    "    correct += np.sum(np.argmax(pred, axis=0) == y)\n",
    "    total += y.shape[0]\n",
    "  return correct / total"
   ]
  },
  {
   "cell_type": "markdown",
   "metadata": {},
   "source": [
    "### Create your model and train it\n"
   ]
  },
  {
   "cell_type": "code",
   "execution_count": 28,
   "metadata": {},
   "outputs": [],
   "source": [
    "model = Sequential_layers([\n",
    "    Linear(784, 512),\n",
    "    ReLU(),\n",
    "    Linear(512, 256),\n",
    "    ReLU(),\n",
    "    Linear(256, 24)\n",
    "])\n"
   ]
  },
  {
   "cell_type": "code",
   "execution_count": 29,
   "metadata": {},
   "outputs": [
    {
     "name": "stdout",
     "output_type": "stream",
     "text": [
      "epoch: 1 costo: 0.8619501819882771, accuracy: 0.6190741773563859\n",
      "epoch: 2 costo: 0.444263838870253, accuracy: 0.7027328499721138\n",
      "epoch: 3 costo: 0.22685494598568173, accuracy: 0.7203011712214166\n",
      "epoch: 4 costo: 0.16348339299161654, accuracy: 0.747350808700502\n",
      "epoch: 5 costo: 0.13892410524142765, accuracy: 0.756553262688232\n",
      "epoch: 6 costo: 0.07865811787945234, accuracy: 0.7598996095928612\n",
      "epoch: 7 costo: 0.06394190873267265, accuracy: 0.7663134411600669\n",
      "epoch: 8 costo: 0.04837832382002995, accuracy: 0.7704963747908533\n",
      "epoch: 9 costo: 0.042532697258524224, accuracy: 0.7718906860011154\n",
      "epoch: 10 costo: 0.03773871929626315, accuracy: 0.7707752370329057\n",
      "epoch: 11 costo: 0.03063302697656563, accuracy: 0.7710540992749582\n",
      "epoch: 12 costo: 0.023585581013919856, accuracy: 0.775515895147797\n",
      "epoch: 13 costo: 0.02446560471732086, accuracy: 0.7749581706636921\n",
      "epoch: 14 costo: 0.02014250170052887, accuracy: 0.7757947573898494\n",
      "epoch: 15 costo: 0.02254780754178375, accuracy: 0.7780256553262688\n",
      "epoch: 16 costo: 0.016947782959168035, accuracy: 0.7805354155047407\n",
      "epoch: 17 costo: 0.01786856886750414, accuracy: 0.7760736196319018\n",
      "epoch: 18 costo: 0.014879305557832352, accuracy: 0.781372002230898\n",
      "epoch: 19 costo: 0.015477079811251427, accuracy: 0.7819297267150028\n",
      "epoch: 20 costo: 0.011175569486854789, accuracy: 0.781372002230898\n",
      "epoch: 21 costo: 0.013236742794904267, accuracy: 0.7799776910206359\n",
      "epoch: 22 costo: 0.013287489389362488, accuracy: 0.7816508644729504\n",
      "epoch: 23 costo: 0.011559551965783505, accuracy: 0.7827663134411601\n",
      "epoch: 24 costo: 0.010609762976925577, accuracy: 0.7830451756832125\n",
      "epoch: 25 costo: 0.008812125456353645, accuracy: 0.7841606246514222\n",
      "epoch: 26 costo: 0.010326958373159258, accuracy: 0.783324037925265\n",
      "epoch: 27 costo: 0.008525710782287532, accuracy: 0.7824874511991077\n",
      "epoch: 28 costo: 0.007504518456284169, accuracy: 0.783324037925265\n",
      "epoch: 29 costo: 0.007759069812711434, accuracy: 0.7827663134411601\n",
      "epoch: 30 costo: 0.0077730432892892925, accuracy: 0.7830451756832125\n",
      "epoch: 31 costo: 0.006376437998822739, accuracy: 0.7849972113775795\n",
      "epoch: 32 costo: 0.007138859080410096, accuracy: 0.7827663134411601\n",
      "epoch: 33 costo: 0.006968507046921325, accuracy: 0.7838817624093698\n",
      "epoch: 34 costo: 0.006024742124577877, accuracy: 0.7838817624093698\n",
      "epoch: 35 costo: 0.006619707956592599, accuracy: 0.7844394868934746\n",
      "epoch: 36 costo: 0.006160278811309604, accuracy: 0.7844394868934746\n",
      "epoch: 37 costo: 0.005891751064013942, accuracy: 0.7852760736196319\n",
      "epoch: 38 costo: 0.006339696205725068, accuracy: 0.7847183491355271\n",
      "epoch: 39 costo: 0.00590803759196765, accuracy: 0.7852760736196319\n",
      "epoch: 40 costo: 0.004856162967951339, accuracy: 0.7852760736196319\n"
     ]
    }
   ],
   "source": [
    "# train the model\n",
    "mb_size = 512\n",
    "learning_rate = 1e-4\n",
    "epochs = 40\n",
    "train(model, epochs, mb_size, learning_rate)"
   ]
  },
  {
   "cell_type": "markdown",
   "metadata": {},
   "source": [
    "### Test your model on Random data from your test set"
   ]
  },
  {
   "cell_type": "code",
   "execution_count": 32,
   "metadata": {},
   "outputs": [
    {
     "data": {
      "image/png": "[encoded data removed]",
      "text/plain": [
       "<Figure size 500x500 with 1 Axes>"
      ]
     },
     "metadata": {},
     "output_type": "display_data"
    },
    {
     "name": "stdout",
     "output_type": "stream",
     "text": [
      "el valor predicho es: s el valor real es: s\n"
     ]
    }
   ],
   "source": [
    "idx = np.random.randint(len(y_test))\n",
    "plot_letter(x_test[idx].reshape(28,28))\n",
    "pred = model.predict(x_test[idx].reshape(-1, 1))\n",
    "print(f'el valor predicho es: {alphabet[pred]} el valor real es: {alphabet[y_test[idx]]}')"
   ]
  }
 ],
 "metadata": {
  "kernelspec": {
   "display_name": "Python 3 (ipykernel)",
   "language": "python",
   "name": "python3"
  },
  "language_info": {
   "codemirror_mode": {
    "name": "ipython",
    "version": 3
   },
   "file_extension": ".py",
   "mimetype": "text/x-python",
   "name": "python",
   "nbconvert_exporter": "python",
   "pygments_lexer": "ipython3",
   "version": "3.11.5"
  },
  "toc": {
   "base_numbering": 1,
   "nav_menu": {},
   "number_sections": true,
   "sideBar": true,
   "skip_h1_title": false,
   "title_cell": "Table of Contents",
   "title_sidebar": "Contents",
   "toc_cell": false,
   "toc_position": {},
   "toc_section_display": true,
   "toc_window_display": false
  },
  "varInspector": {
   "cols": {
    "lenName": 16,
    "lenType": 16,
    "lenVar": 40
   },
   "kernels_config": {
    "python": {
     "delete_cmd_postfix": "",
     "delete_cmd_prefix": "del ",
     "library": "var_list.py",
     "varRefreshCmd": "print(var_dic_list())"
    },
    "r": {
     "delete_cmd_postfix": ") ",
     "delete_cmd_prefix": "rm(",
     "library": "var_list.r",
     "varRefreshCmd": "cat(var_dic_list()) "
    }
   },
   "types_to_exclude": [
    "module",
    "function",
    "builtin_function_or_method",
    "instance",
    "_Feature"
   ],
   "window_display": false
  }
 },
 "nbformat": 4,
 "nbformat_minor": 4
}
