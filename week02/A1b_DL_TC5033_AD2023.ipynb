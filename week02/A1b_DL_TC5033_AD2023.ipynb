{
  "cells": [
    {
      "cell_type": "markdown",
      "metadata": {
        "id": "qWrBlwkGEJll"
      },
      "source": [
        "# TC 5033\n",
        "## Deep Learning\n",
        "## Fully Connected Deep Neural Networks\n",
        "\n",
        "#### Activity 1b: Implementing a Fully Connected Network for Kaggle ASL Dataset\n",
        "\n",
        "- Objective\n",
        "\n",
        "The aim of this part of the activity is to apply your understanding of Fully Connected Networks by implementing a multilayer network for the [Kaggle ASL (American Sign Language) dataset](https://www.kaggle.com/datasets/grassknoted/asl-alphabet). While you have been provided with a complete solution for a Fully Connected Network using Numpy for the MNIST dataset, you are encouraged to try to come up with the solution.\n",
        "\n",
        "- Instructions\n",
        "\n",
        "    This activity requires submission in teams of 3 or 4 members. Submissions from smaller or larger teams will not be accepted unless prior approval has been granted (only due to exceptional circumstances). While teamwork is encouraged, each member is expected to contribute individually to the assignment. The final submission should feature the best arguments and solutions from each team member. Only one person per team needs to submit the completed work, but it is imperative that the names of all team members are listed in a Markdown cell at the very beginning of the notebook (either the first or second cell). Failure to include all team member names will result in the grade being awarded solely to the individual who submitted the assignment, with zero points given to other team members (no exceptions will be made to this rule).\n",
        "\n",
        "    Load and Preprocess Data: You are provided a starter code to load the data. Be sure to understand the code.\n",
        "\n",
        "    Review MNIST Notebook (Optional): Before diving into this activity, you have the option to revisit the MNIST example to refresh your understanding of how to build a Fully Connected Network using Numpy.\n",
        "\n",
        "    Start Fresh: Although you can refer to the MNIST solution at any point, try to implement the network for the ASL dataset on your own. This will reinforce your learning and understanding of the architecture and mathematics involved.\n",
        "\n",
        "    Implement Forward and Backward Pass: Write the code to perform the forward and backward passes, keeping in mind the specific challenges and characteristics of the ASL dataset.\n",
        "    \n",
        "     Design the Network: Create the architecture of the Fully Connected Network tailored for the ASL dataset. Choose the number of hidden layers, neurons, and hyperparameters judiciously.\n",
        "\n",
        "    Train the Model: Execute the training loop, ensuring to track performance metrics such as loss and accuracy.\n",
        "\n",
        "    Analyze and Document: Use Markdown cells to document in detail the choices you made in terms of architecture and hyperparameters, you may use figures, equations, etc to aid in your explanations. Include any metrics that help justify these choices and discuss the model's performance.  \n",
        "\n",
        "- Evaluation Criteria\n",
        "\n",
        "    - Code Readability and Comments\n",
        "    - Appropriateness of chosen architecture and hyperparameters for the ASL dataset\n",
        "    - Performance of the model on the ASL dataset (at least 70% acc)\n",
        "    - Quality of Markdown documentation\n",
        "\n",
        "- Submission\n",
        "\n",
        "Submit this Jupyter Notebook in canvas with your complete solution, ensuring your code is well-commented and includes Markdown cells that explain your design choices, results, and any challenges you encountered.\n"
      ]
    },
    {
      "cell_type": "markdown",
      "metadata": {},
      "source": [
        "# **Maestría en Inteligencia Artificial Aplicada**\n",
        "## **Subject: Advance Machine Learning Methods**\n",
        "### Tecnológico de Monterrey\n",
        "### Jose Antonio Cantoral Ceballos\n",
        "\n",
        "## Activity 1b: Implementing a Fully Connected Network for Kaggle ASL Dataset"
      ]
    },
    {
      "cell_type": "markdown",
      "metadata": {},
      "source": [
        "**Names and IDs of team members:**\n",
        "\n",
        "|Nombre|Matrícula|\n",
        "|:---|:---|\n",
        "| Rodrigo López Aguilera | A01793071 |\n",
        "| Diego Carrera Nicholls | A00464290 |\n",
        "| Zmaltzin Paola Godinez Juarez | A01793548 |\n",
        "| Ruben Guerrero del Fierro | A01793005 |"
      ]
    },
    {
      "cell_type": "markdown",
      "metadata": {},
      "source": [
        "We make the necessary imports which in this case they aren't so many since the Neural Network (NN) was made only using numpy as its backbone for the whole operations."
      ]
    },
    {
      "cell_type": "code",
      "execution_count": 1,
      "metadata": {
        "id": "Ci7vcMwTEJls"
      },
      "outputs": [],
      "source": [
        "import numpy as np\n",
        "import string\n",
        "import pandas as pd\n",
        "import matplotlib.pyplot as plt\n",
        "import cv2 as cv\n",
        "import os\n",
        "\n",
        "%load_ext autoreload\n",
        "%autoreload 2\n",
        "%matplotlib inline"
      ]
    },
    {
      "cell_type": "markdown",
      "metadata": {},
      "source": [
        "We load the path of our dataset and see the head of the dataframe to check the information stored."
      ]
    },
    {
      "cell_type": "code",
      "execution_count": 2,
      "metadata": {
        "id": "VhJUEkLnEJlv"
      },
      "outputs": [],
      "source": [
        "DATA_PATH = './asl_data/'\n",
        "train_df = pd.read_csv(os.path.join(DATA_PATH, 'sign_mnist_train.csv'))\n",
        "valid_df = pd.read_csv(os.path.join(DATA_PATH, 'sign_mnist_valid.csv'))"
      ]
    },
    {
      "cell_type": "code",
      "execution_count": 3,
      "metadata": {
        "colab": {
          "base_uri": "https://localhost:8080/",
          "height": 256
        },
        "id": "BQk0Y8I-EJlv",
        "outputId": "40ee86c4-b9be-4992-c7fb-3eda62b1350a"
      },
      "outputs": [
        {
          "data": {
            "text/html": [
              "<div>\n",
              "<style scoped>\n",
              "    .dataframe tbody tr th:only-of-type {\n",
              "        vertical-align: middle;\n",
              "    }\n",
              "\n",
              "    .dataframe tbody tr th {\n",
              "        vertical-align: top;\n",
              "    }\n",
              "\n",
              "    .dataframe thead th {\n",
              "        text-align: right;\n",
              "    }\n",
              "</style>\n",
              "<table border=\"1\" class=\"dataframe\">\n",
              "  <thead>\n",
              "    <tr style=\"text-align: right;\">\n",
              "      <th></th>\n",
              "      <th>label</th>\n",
              "      <th>pixel1</th>\n",
              "      <th>pixel2</th>\n",
              "      <th>pixel3</th>\n",
              "      <th>pixel4</th>\n",
              "      <th>pixel5</th>\n",
              "      <th>pixel6</th>\n",
              "      <th>pixel7</th>\n",
              "      <th>pixel8</th>\n",
              "      <th>pixel9</th>\n",
              "      <th>...</th>\n",
              "      <th>pixel775</th>\n",
              "      <th>pixel776</th>\n",
              "      <th>pixel777</th>\n",
              "      <th>pixel778</th>\n",
              "      <th>pixel779</th>\n",
              "      <th>pixel780</th>\n",
              "      <th>pixel781</th>\n",
              "      <th>pixel782</th>\n",
              "      <th>pixel783</th>\n",
              "      <th>pixel784</th>\n",
              "    </tr>\n",
              "  </thead>\n",
              "  <tbody>\n",
              "    <tr>\n",
              "      <th>0</th>\n",
              "      <td>3</td>\n",
              "      <td>107</td>\n",
              "      <td>118</td>\n",
              "      <td>127</td>\n",
              "      <td>134</td>\n",
              "      <td>139</td>\n",
              "      <td>143</td>\n",
              "      <td>146</td>\n",
              "      <td>150</td>\n",
              "      <td>153</td>\n",
              "      <td>...</td>\n",
              "      <td>207</td>\n",
              "      <td>207</td>\n",
              "      <td>207</td>\n",
              "      <td>207</td>\n",
              "      <td>206</td>\n",
              "      <td>206</td>\n",
              "      <td>206</td>\n",
              "      <td>204</td>\n",
              "      <td>203</td>\n",
              "      <td>202</td>\n",
              "    </tr>\n",
              "    <tr>\n",
              "      <th>1</th>\n",
              "      <td>6</td>\n",
              "      <td>155</td>\n",
              "      <td>157</td>\n",
              "      <td>156</td>\n",
              "      <td>156</td>\n",
              "      <td>156</td>\n",
              "      <td>157</td>\n",
              "      <td>156</td>\n",
              "      <td>158</td>\n",
              "      <td>158</td>\n",
              "      <td>...</td>\n",
              "      <td>69</td>\n",
              "      <td>149</td>\n",
              "      <td>128</td>\n",
              "      <td>87</td>\n",
              "      <td>94</td>\n",
              "      <td>163</td>\n",
              "      <td>175</td>\n",
              "      <td>103</td>\n",
              "      <td>135</td>\n",
              "      <td>149</td>\n",
              "    </tr>\n",
              "    <tr>\n",
              "      <th>2</th>\n",
              "      <td>2</td>\n",
              "      <td>187</td>\n",
              "      <td>188</td>\n",
              "      <td>188</td>\n",
              "      <td>187</td>\n",
              "      <td>187</td>\n",
              "      <td>186</td>\n",
              "      <td>187</td>\n",
              "      <td>188</td>\n",
              "      <td>187</td>\n",
              "      <td>...</td>\n",
              "      <td>202</td>\n",
              "      <td>201</td>\n",
              "      <td>200</td>\n",
              "      <td>199</td>\n",
              "      <td>198</td>\n",
              "      <td>199</td>\n",
              "      <td>198</td>\n",
              "      <td>195</td>\n",
              "      <td>194</td>\n",
              "      <td>195</td>\n",
              "    </tr>\n",
              "    <tr>\n",
              "      <th>3</th>\n",
              "      <td>2</td>\n",
              "      <td>211</td>\n",
              "      <td>211</td>\n",
              "      <td>212</td>\n",
              "      <td>212</td>\n",
              "      <td>211</td>\n",
              "      <td>210</td>\n",
              "      <td>211</td>\n",
              "      <td>210</td>\n",
              "      <td>210</td>\n",
              "      <td>...</td>\n",
              "      <td>235</td>\n",
              "      <td>234</td>\n",
              "      <td>233</td>\n",
              "      <td>231</td>\n",
              "      <td>230</td>\n",
              "      <td>226</td>\n",
              "      <td>225</td>\n",
              "      <td>222</td>\n",
              "      <td>229</td>\n",
              "      <td>163</td>\n",
              "    </tr>\n",
              "    <tr>\n",
              "      <th>4</th>\n",
              "      <td>12</td>\n",
              "      <td>164</td>\n",
              "      <td>167</td>\n",
              "      <td>170</td>\n",
              "      <td>172</td>\n",
              "      <td>176</td>\n",
              "      <td>179</td>\n",
              "      <td>180</td>\n",
              "      <td>184</td>\n",
              "      <td>185</td>\n",
              "      <td>...</td>\n",
              "      <td>92</td>\n",
              "      <td>105</td>\n",
              "      <td>105</td>\n",
              "      <td>108</td>\n",
              "      <td>133</td>\n",
              "      <td>163</td>\n",
              "      <td>157</td>\n",
              "      <td>163</td>\n",
              "      <td>164</td>\n",
              "      <td>179</td>\n",
              "    </tr>\n",
              "  </tbody>\n",
              "</table>\n",
              "<p>5 rows × 785 columns</p>\n",
              "</div>"
            ],
            "text/plain": [
              "   label  pixel1  pixel2  pixel3  pixel4  pixel5  pixel6  pixel7  pixel8  \\\n",
              "0      3     107     118     127     134     139     143     146     150   \n",
              "1      6     155     157     156     156     156     157     156     158   \n",
              "2      2     187     188     188     187     187     186     187     188   \n",
              "3      2     211     211     212     212     211     210     211     210   \n",
              "4     12     164     167     170     172     176     179     180     184   \n",
              "\n",
              "   pixel9  ...  pixel775  pixel776  pixel777  pixel778  pixel779  pixel780  \\\n",
              "0     153  ...       207       207       207       207       206       206   \n",
              "1     158  ...        69       149       128        87        94       163   \n",
              "2     187  ...       202       201       200       199       198       199   \n",
              "3     210  ...       235       234       233       231       230       226   \n",
              "4     185  ...        92       105       105       108       133       163   \n",
              "\n",
              "   pixel781  pixel782  pixel783  pixel784  \n",
              "0       206       204       203       202  \n",
              "1       175       103       135       149  \n",
              "2       198       195       194       195  \n",
              "3       225       222       229       163  \n",
              "4       157       163       164       179  \n",
              "\n",
              "[5 rows x 785 columns]"
            ]
          },
          "execution_count": 3,
          "metadata": {},
          "output_type": "execute_result"
        }
      ],
      "source": [
        "train_df.head()"
      ]
    },
    {
      "cell_type": "markdown",
      "metadata": {
        "id": "vu-zPLynEJlw"
      },
      "source": [
        "### Define labels and data"
      ]
    },
    {
      "cell_type": "markdown",
      "metadata": {},
      "source": [
        "We now define which values will be the 'y' and 'x' data. It's important to note that we need this information to be as numpy arrays for the training of the NN."
      ]
    },
    {
      "cell_type": "code",
      "execution_count": 4,
      "metadata": {
        "id": "gedtksxsEJlw"
      },
      "outputs": [],
      "source": [
        "y_train = np.array(train_df['label'])\n",
        "y_val = np.array(valid_df['label'])\n",
        "del train_df['label']\n",
        "del valid_df['label']\n",
        "x_train = train_df.values.astype(np.float32)\n",
        "x_val = valid_df.values.astype(np.float32)"
      ]
    },
    {
      "cell_type": "code",
      "execution_count": 5,
      "metadata": {
        "colab": {
          "base_uri": "https://localhost:8080/"
        },
        "id": "c-DKTBwcIJrb",
        "outputId": "21d933b9-69de-4f4a-bb11-033d70b1fcc2"
      },
      "outputs": [
        {
          "data": {
            "text/plain": [
              "(7172, 784)"
            ]
          },
          "execution_count": 5,
          "metadata": {},
          "output_type": "execute_result"
        }
      ],
      "source": [
        "x_val.shape"
      ]
    },
    {
      "cell_type": "markdown",
      "metadata": {},
      "source": [
        "This function will be useful later on as it will split our dataset given a given percentage specified in the parameters, furthermore it can shuffle our samples if we specified it as well."
      ]
    },
    {
      "cell_type": "code",
      "execution_count": 6,
      "metadata": {
        "code_folding": [],
        "id": "Mi4zaX4iEJlx"
      },
      "outputs": [],
      "source": [
        "# Function split the validation set into validation and test\n",
        "def split_val_test(x, y, pct=0.5, shuffle=True):\n",
        "  '''\n",
        "  Create a function that will allow you to split the previously loaded set\n",
        "  into validation and test set.\n",
        "  '''\n",
        "  total_samples = x.shape[0]\n",
        "\n",
        "  # Shuffle the dataset\n",
        "  if shuffle == True:\n",
        "    indices = np.arange(total_samples)\n",
        "    np.random.shuffle(indices)\n",
        "\n",
        "  # Calculate the sizes of the validation and test sets\n",
        "  valid_size = int(total_samples * pct)\n",
        "  test_size = int(total_samples * pct)\n",
        "\n",
        "  # Split the dataset\n",
        "  x_val = x[indices[:valid_size]]\n",
        "  y_val = y[indices[:valid_size]]\n",
        "\n",
        "  x_test = x[indices[valid_size:valid_size+test_size]]\n",
        "  y_test = y[indices[valid_size:valid_size+test_size]]\n",
        "\n",
        "  return x_val, y_val, x_test, y_test"
      ]
    },
    {
      "cell_type": "code",
      "execution_count": 7,
      "metadata": {
        "id": "N6DbDbs3EJlx"
      },
      "outputs": [],
      "source": [
        "x_val, y_val, x_test, y_test = split_val_test(x_val, y_val)"
      ]
    },
    {
      "cell_type": "code",
      "execution_count": 8,
      "metadata": {
        "colab": {
          "base_uri": "https://localhost:8080/"
        },
        "id": "vTdBGPgPL2jl",
        "outputId": "ac7c35f7-6795-4e73-e0f3-a186ba964a0f"
      },
      "outputs": [
        {
          "data": {
            "text/plain": [
              "(3586, 784)"
            ]
          },
          "execution_count": 8,
          "metadata": {},
          "output_type": "execute_result"
        }
      ],
      "source": [
        "x_val.shape"
      ]
    },
    {
      "cell_type": "markdown",
      "metadata": {},
      "source": [
        "This step is to remove those classes which we don't have samples of, trying to train the neural network without these samples could lead to some issues in accuracy."
      ]
    },
    {
      "cell_type": "code",
      "execution_count": 9,
      "metadata": {
        "colab": {
          "base_uri": "https://localhost:8080/"
        },
        "id": "29KoH07TEJly",
        "outputId": "787b6116-041e-48a7-c6f2-94174bd48cde"
      },
      "outputs": [
        {
          "name": "stdout",
          "output_type": "stream",
          "text": [
            "24\n"
          ]
        }
      ],
      "source": [
        "alphabet=list(string.ascii_lowercase)\n",
        "alphabet.remove('j')\n",
        "alphabet.remove('z')\n",
        "print(len(alphabet))"
      ]
    },
    {
      "cell_type": "markdown",
      "metadata": {
        "id": "3X6jrM0TEJlz"
      },
      "source": [
        "### Normalization"
      ]
    },
    {
      "cell_type": "markdown",
      "metadata": {},
      "source": [
        "This function will provide us with a way to normalize our pictures, the reason we want to do this is to basically have all values in all of our features with a mean of zero and a standard deviation of 1 or very close to it. It improves accuracy, it makes the data easier to manipulate and ensures uniformity across all data."
      ]
    },
    {
      "cell_type": "code",
      "execution_count": 10,
      "metadata": {
        "id": "VOSv2cpJMTRe"
      },
      "outputs": [],
      "source": [
        "def normalise(x_mean, x_std, x_data):\n",
        "    \"\"\"\n",
        "    Normalise the data by subtracting the mean and dividing by the standard deviation.\n",
        "    x_mean: mean of the data\n",
        "    x_std: standard deviation of the data\n",
        "    x_data: data to be normalised\n",
        "    \"\"\"\n",
        "    return (x_data - x_mean) / x_std"
      ]
    },
    {
      "cell_type": "code",
      "execution_count": 11,
      "metadata": {
        "id": "-9_-Li0fMZpu"
      },
      "outputs": [],
      "source": [
        "x_mean = x_train.mean()\n",
        "x_std = x_train.std()\n",
        "\n",
        "x_train = normalise(x_mean, x_std, x_train)\n",
        "x_val = normalise(x_mean, x_std, x_val)\n",
        "x_test = normalise(x_mean, x_std, x_test)"
      ]
    },
    {
      "cell_type": "code",
      "execution_count": 12,
      "metadata": {
        "colab": {
          "base_uri": "https://localhost:8080/"
        },
        "id": "cUFsEU8GM08I",
        "outputId": "b808e219-a446-47c6-d35e-3eccbddfd653"
      },
      "outputs": [
        {
          "data": {
            "text/plain": [
              "(3.6268384e-06, 0.99999946)"
            ]
          },
          "execution_count": 12,
          "metadata": {},
          "output_type": "execute_result"
        }
      ],
      "source": [
        "x_train.mean(), x_train.std()"
      ]
    },
    {
      "cell_type": "markdown",
      "metadata": {
        "id": "BTlnKxptEJlz"
      },
      "source": [
        "### Plot some pictures"
      ]
    },
    {
      "cell_type": "code",
      "execution_count": 13,
      "metadata": {
        "id": "WM0uw6YFNF1L"
      },
      "outputs": [],
      "source": [
        "def plot_number(image):\n",
        "    \"\"\"\n",
        "    Plot the image of a letter.\n",
        "    \"\"\"\n",
        "    plt.figure(figsize=(5,5))\n",
        "    plt.imshow(image.squeeze(), cmap=plt.get_cmap('gray'))\n",
        "    plt.axis('off')\n",
        "    plt.show()"
      ]
    },
    {
      "cell_type": "code",
      "execution_count": 14,
      "metadata": {
        "colab": {
          "base_uri": "https://localhost:8080/",
          "height": 422
        },
        "id": "dHkAwnqPNw96",
        "outputId": "b7cddb33-fe94-4936-9860-d08e6b1be19b"
      },
      "outputs": [
        {
          "data": {
            "image/png": "[encoded data removed]",
            "text/plain": [
              "<Figure size 500x500 with 1 Axes>"
            ]
          },
          "metadata": {},
          "output_type": "display_data"
        }
      ],
      "source": [
        "rnd_idx = np.random.randint(x_val.shape[0])\n",
        "random_image = x_val[rnd_idx].reshape((28,28))\n",
        "plot_number(random_image)"
      ]
    },
    {
      "cell_type": "code",
      "execution_count": 27,
      "metadata": {},
      "outputs": [
        {
          "data": {
            "image/png": "[encoded data removed]",
            "text/plain": [
              "<Figure size 2000x2000 with 24 Axes>"
            ]
          },
          "metadata": {},
          "output_type": "display_data"
        }
      ],
      "source": [
        "# plot all the letters in the alphabet\n",
        "\n",
        "plt.figure(figsize=(20, 20))\n",
        "for i in range(len(alphabet)):\n",
        "    plt.subplot(5, 5, i+1)\n",
        "    plt.imshow(x_train[y_train == i][0].reshape(28, 28), cmap='gray')\n",
        "    plt.title(f'{alphabet[i]}')\n",
        "    plt.axis('off')"
      ]
    },
    {
      "cell_type": "markdown",
      "metadata": {
        "id": "uu533Y4VEJlz"
      },
      "source": [
        "### Equations for our model\n",
        "\n",
        "\n",
        "$$z^1 = W^1 X + b^1$$\n",
        "\n",
        "$$a^1 = ReLU(z^1) $$\n",
        "\n",
        "$$z^2 = W^2 a^1 + b^2$$\n",
        "\n",
        "$$\\hat{y} = \\frac{e^{z^{2_k}}}{\\sum_j{e^{z_j}}}$$\n",
        "\n",
        "\n",
        "$$ \\mathcal{L}(\\hat{y}^{i}, y^{i}) =  - y^{i}  \\ln(\\hat{y}^{i}) = -\\ln(\\hat{y}^i)$$\n",
        "\n",
        "\n",
        "$$ \\mathcal{J}(w, b) =  \\frac{1}{num\\_samples} \\sum_{i=1}^{num\\_samples}-\\ln(\\hat{y}^{i})$$"
      ]
    },
    {
      "cell_type": "markdown",
      "metadata": {
        "id": "au5Sd1-CEJl0"
      },
      "source": [
        "#### Mini batches"
      ]
    },
    {
      "cell_type": "markdown",
      "metadata": {},
      "source": [
        "This function will be useful when training our NN since it will create batches of a given size specified in the parameters which then can be used for gradient descent. There are several flavors for gradient descent but the choice for this activity was to use mini-batch gradient descent. Some advantages for this algorithm are that the model update frequency is higher than batch gradient descent which allows for a more robust convergence, avoiding local minima, the batched updates provide a computationally more efficient process than stochastic gradient descent and the batching allows both the efficiency of not having all training data in memory and algorithm implementations."
      ]
    },
    {
      "cell_type": "code",
      "execution_count": 15,
      "metadata": {
        "id": "Y8JLA7uOEJl0"
      },
      "outputs": [],
      "source": [
        "def create_minibatches(mb_size, x, y, shuffle = True):\n",
        "  \"\"\"\n",
        "  Create minibatches of the data for the training process.\n",
        "  size: size of the minibatches\n",
        "  x: data\n",
        "  y: labels\n",
        "  shuffle: shuffle the data before creating the minibatches\n",
        "  \"\"\"\n",
        "  assert x.shape[0] == y.shape[0]\n",
        "  total_data = x.shape[0]\n",
        "  if shuffle:\n",
        "    idxs = np.arange(total_data)\n",
        "    np.random.shuffle(idxs)\n",
        "    x = x[idxs]\n",
        "    y = y[idxs]\n",
        "  return ((x[i:i+mb_size], y[i:i+mb_size]) for i in range(0, total_data, mb_size))"
      ]
    },
    {
      "cell_type": "markdown",
      "metadata": {
        "id": "8qwo1UW1EJl1"
      },
      "source": [
        "## Linear, ReLU and Sequential classes"
      ]
    },
    {
      "cell_type": "markdown",
      "metadata": {},
      "source": [
        "This is just a definition of our 'tensor' which its inherited from the numpy array functionality but it will serve as the backbone for our classes to create the arquitecture of the NN."
      ]
    },
    {
      "cell_type": "code",
      "execution_count": 16,
      "metadata": {
        "id": "rMuha4M2q9qX"
      },
      "outputs": [],
      "source": [
        "class np_tensor(np.ndarray): pass"
      ]
    },
    {
      "cell_type": "markdown",
      "metadata": {},
      "source": [
        "The following classes represent the different kind of neurons that we will be able to put together to form a NN, the first two: Linear and ReLU represent linear and Rectified Linear Unit (ReLU) activation functions of a neuron. They both have a backward method to compute the gradients through backpropagation and a call method which represents the respective activation functions. The only difference is the Linear class which has an intialization of the $W$ gradients to be calculated, this of course depends on the input size for the neurons and the output size of the next layer.\n",
        "\n",
        "Finally there's the Sequential class which represents a sequential stack of neural network layers, it takes a list of layers and applies them sequentially. Then it basically calls the backward method from the neurons to start the backpropagation and the calculation of the gradients and then it updates them. Finally a predict method to have final prediction after the gradients have been computed."
      ]
    },
    {
      "cell_type": "markdown",
      "metadata": {
        "id": "A5EIt2RcEJl1"
      },
      "source": [
        "###  Linear class"
      ]
    },
    {
      "cell_type": "code",
      "execution_count": 17,
      "metadata": {
        "id": "tJXfaFVBh9Yw"
      },
      "outputs": [],
      "source": [
        "class Linear():\n",
        "    \"\"\"\n",
        "    Class for a linear layer\n",
        "    \"\"\"\n",
        "    def __init__(self, input_size, output_size):\n",
        "        \"\"\"\n",
        "        Init layer using Kaiming He initialization.\n",
        "        input_size: number of input neurons\n",
        "        output_size: number of output neurons\n",
        "        \"\"\"\n",
        "        self.W = (np.random.randn(output_size, input_size) / np.sqrt(input_size/2)).view(np_tensor)\n",
        "        self.b = (np.zeros((output_size, 1))).view(np_tensor)\n",
        "    def __call__(self, X):\n",
        "        \"\"\"\n",
        "        Forward pass, dot product of weights and input plus bias.\n",
        "        X: input data    \n",
        "        \"\"\"\n",
        "        Z = self.W @ X + self.b\n",
        "        return Z\n",
        "    def backward(self, X, Z):\n",
        "        \"\"\"\n",
        "        Backward pass.\n",
        "        x: input data\n",
        "        grad: gradient from the previous layer\n",
        "        \"\"\"\n",
        "        X.grad = self.W.T @ Z.grad\n",
        "        self.W.grad = Z.grad @ X.T\n",
        "        self.b.grad = np.sum(Z.grad, axis = 1, keepdims=True)"
      ]
    },
    {
      "cell_type": "markdown",
      "metadata": {
        "id": "-hXFAGH8EJl1"
      },
      "source": [
        "### ReLU class"
      ]
    },
    {
      "cell_type": "code",
      "execution_count": 18,
      "metadata": {
        "id": "wKEMkroGm9Ht"
      },
      "outputs": [],
      "source": [
        "class ReLU():\n",
        "    \"\"\"\n",
        "    Class for a ReLU activation layer\n",
        "    \"\"\"\n",
        "    def __call__(self, Z):\n",
        "        \"\"\"\n",
        "        Forward pass.\n",
        "        Z: input data\n",
        "        \"\"\"\n",
        "        return np.maximum(0, Z)\n",
        "    def backward(self, Z, A):\n",
        "        \"\"\"\n",
        "        Backward pass.\n",
        "        Z: input data\n",
        "        A: output of the forward pass\n",
        "        \"\"\"\n",
        "        Z.grad = A.grad.copy()\n",
        "        Z.grad[Z <= 0] = 0"
      ]
    },
    {
      "cell_type": "markdown",
      "metadata": {
        "id": "N1Ogyq5jEJl1"
      },
      "source": [
        "### Sequential class"
      ]
    },
    {
      "cell_type": "code",
      "execution_count": 19,
      "metadata": {
        "id": "yWr610KIoGAL"
      },
      "outputs": [],
      "source": [
        "class Sequential_layers():\n",
        "    \"\"\"\n",
        "    layers - lista que contiene objetos de tipo Linear, ReLU\n",
        "    \"\"\"\n",
        "    def __init__(self, layers):\n",
        "        self.layers = layers\n",
        "        self.x = None\n",
        "        self.outputs = {}\n",
        "    def __call__(self, X):\n",
        "        self.x = X\n",
        "        self.outputs['l0'] = self.x\n",
        "        for i, layer in enumerate(self.layers, 1):\n",
        "            self.x = layer(self.x)\n",
        "            self.outputs['l'+str(i)]=self.x\n",
        "        return self.x\n",
        "    def backward(self):\n",
        "        for i in reversed(range(len(self.layers))):\n",
        "            self.layers[i].backward(self.outputs['l'+str(i)], self.outputs['l'+str(i+1)])\n",
        "    def update(self, learning_rate = 1e-3):\n",
        "        for layer in self.layers:\n",
        "            if isinstance(layer, ReLU): continue\n",
        "            layer.W = layer.W - learning_rate * layer.W.grad\n",
        "            layer.b = layer.b - learning_rate * layer.b.grad\n",
        "    def predict(self, X):\n",
        "        return np.argmax(self.__call__(X))"
      ]
    },
    {
      "cell_type": "markdown",
      "metadata": {
        "id": "NkVvdJbpEJl1"
      },
      "source": [
        "### Cost Function"
      ]
    },
    {
      "cell_type": "markdown",
      "metadata": {},
      "source": [
        "The cost function is called 'softmaxXEntropy' and is the one used for this kind of classification problems where the classification is shown as an array of probabilities with the index of the highest probability being the actual classification. This cost function will be one of the references when training the NN to know if the gradients are actually giving a better or worse accuracy through each iteration."
      ]
    },
    {
      "cell_type": "code",
      "execution_count": 20,
      "metadata": {
        "id": "dBr5IVjJoLUZ"
      },
      "outputs": [],
      "source": [
        "def softmaxXEntropy(x, y):\n",
        "    \"\"\"\n",
        "    Softmax and cross entropy loss.\n",
        "    x: input data\n",
        "    y: labels\n",
        "    \"\"\"\n",
        "    batch_size = x.shape[1]\n",
        "    exp_scores = np.exp(x)\n",
        "    probs = exp_scores / exp_scores.sum(axis = 0)\n",
        "    preds = probs.copy()\n",
        "    # Costo\n",
        "    y_hat = probs[y.squeeze(), np.arange(batch_size)]\n",
        "    cost = np.sum(-np.log(y_hat)) / batch_size\n",
        "    # Calcular gradientes\n",
        "    probs[y.squeeze(), np.arange(batch_size)] -= 1 #dl/dx\n",
        "    x.grad = probs.copy()\n",
        "\n",
        "    return preds, cost"
      ]
    },
    {
      "cell_type": "markdown",
      "metadata": {
        "id": "ET-rYWvFEJl1"
      },
      "source": [
        "### Training"
      ]
    },
    {
      "cell_type": "markdown",
      "metadata": {},
      "source": [
        "We now define two more functions which will train our NN model through the use of our mini batches function explained earlier and the cost function. The next function is the accuracy which as it name implies will calculate the accuracy of the prediction of our NN and the actual prediction in the dataset."
      ]
    },
    {
      "cell_type": "code",
      "execution_count": 21,
      "metadata": {
        "id": "1KfJrd3MocCd"
      },
      "outputs": [],
      "source": [
        "def train(model, epochs, mb_size=128, learning_rate = 1e-3):\n",
        "    \"\"\"\n",
        "    Train the model.\n",
        "    model: model to be trained\n",
        "    epochs: number of epochs\n",
        "    mb_size: minibatch size\n",
        "    learning_rate: learning rate for the update\n",
        "    \"\"\"\n",
        "    for epoch in range(epochs):\n",
        "        for i, (x, y) in enumerate(create_minibatches(mb_size, x_train, y_train)):\n",
        "            scores = model(x.T.view(np_tensor))\n",
        "            _, cost = softmaxXEntropy(scores, y)\n",
        "            model.backward()\n",
        "            model.update(learning_rate)\n",
        "        print(f'costo: {cost}, accuracy: {accuracy(x_val, y_val, mb_size)}')"
      ]
    },
    {
      "cell_type": "code",
      "execution_count": 22,
      "metadata": {
        "id": "OmgYwaknp9rw"
      },
      "outputs": [],
      "source": [
        "def accuracy(x, y, mb_size):\n",
        "    \"\"\"\n",
        "    Calculate the accuracy of the model.\n",
        "    x: data\n",
        "    y: labels\n",
        "    mb_size: minibatch size  \n",
        "    \"\"\"\n",
        "    correct = 0\n",
        "    total = 0\n",
        "    for i, (x, y) in enumerate(create_minibatches(mb_size, x, y)):\n",
        "        pred = model(x.T.view(np_tensor))\n",
        "        correct += np.sum(np.argmax(pred, axis=0) == y.squeeze())\n",
        "        total += pred.shape[1]\n",
        "    return correct/total"
      ]
    },
    {
      "cell_type": "markdown",
      "metadata": {
        "id": "GIToXMzzEJl2"
      },
      "source": [
        "### Model"
      ]
    },
    {
      "cell_type": "markdown",
      "metadata": {},
      "source": [
        "For the architecture we chose for this solution, we use the same one as the one that was used for the MNIST dataset in the example notebook. After some experimentation we found that the this is the closest accuracy we can get, about 77%-78%. Any other parameters we can control, the batch size, the learning rate and the epochs don't seem to really affect the performance or accuracy of the NN. And so, this is the final architecture used:\n",
        "- A layer of 200 neurons\n",
        "- Followed by a ReLU activation\n",
        "- Next another layer of 200 neurons\n",
        "- Followed by a ReLU activation\n",
        "- And finally a final layer of 24 neurons for the classification of the image"
      ]
    },
    {
      "cell_type": "code",
      "execution_count": 23,
      "metadata": {
        "id": "0SnuMgFPEJl2"
      },
      "outputs": [],
      "source": [
        "model = Sequential_layers([Linear(784, 200), ReLU(), Linear(200, 200), ReLU(), Linear(200, 24)])\n",
        "mb_size = 128\n",
        "learning_rate = 1e-4\n",
        "epochs = 20"
      ]
    },
    {
      "cell_type": "code",
      "execution_count": 24,
      "metadata": {
        "colab": {
          "base_uri": "https://localhost:8080/"
        },
        "id": "8LqD2W-SqPZT",
        "outputId": "987e14b6-7e87-446c-b8e4-1af741c1fc88"
      },
      "outputs": [
        {
          "name": "stdout",
          "output_type": "stream",
          "text": [
            "costo: 1.0160536866150751, accuracy: 0.5764082543223648\n",
            "costo: 0.5038538151355975, accuracy: 0.658393753485778\n",
            "costo: 0.3184578794379762, accuracy: 0.7124930284439487\n",
            "costo: 0.19215779076719425, accuracy: 0.7281093139988846\n",
            "costo: 0.1270418462564838, accuracy: 0.7479085331846068\n",
            "costo: 0.11631252965998896, accuracy: 0.7437255995538204\n",
            "costo: 0.06768714685231643, accuracy: 0.7518126045733408\n",
            "costo: 0.05515562763533645, accuracy: 0.7590630228667038\n",
            "costo: 0.05336209394542723, accuracy: 0.7593418851087562\n",
            "costo: 0.040912178360058594, accuracy: 0.7610150585610709\n",
            "costo: 0.03597773901563671, accuracy: 0.7598996095928612\n",
            "costo: 0.03520654537240386, accuracy: 0.7638036809815951\n",
            "costo: 0.028852967598317503, accuracy: 0.7654768544339097\n",
            "costo: 0.02384158922678162, accuracy: 0.7679866146123815\n",
            "costo: 0.02666597909961843, accuracy: 0.7643614054657\n",
            "costo: 0.018054774439666955, accuracy: 0.769659788064696\n",
            "costo: 0.01673477991044178, accuracy: 0.7707752370329057\n",
            "costo: 0.016579711659327347, accuracy: 0.7674288901282766\n",
            "costo: 0.015731302712938895, accuracy: 0.7682654768544339\n",
            "costo: 0.015985414675730857, accuracy: 0.7674288901282766\n"
          ]
        }
      ],
      "source": [
        "train(model, epochs, mb_size, learning_rate)"
      ]
    },
    {
      "cell_type": "markdown",
      "metadata": {},
      "source": [
        "We can see the accuracy for our model was about 77%."
      ]
    },
    {
      "cell_type": "code",
      "execution_count": 25,
      "metadata": {
        "colab": {
          "base_uri": "https://localhost:8080/"
        },
        "id": "iGqJ_KYOw0s6",
        "outputId": "3b03e372-8edf-4957-af33-ac81e3eb9e4b"
      },
      "outputs": [
        {
          "name": "stdout",
          "output_type": "stream",
          "text": [
            "0.7704963747908533\n"
          ]
        }
      ],
      "source": [
        "print(accuracy(x_test, y_test, mb_size))"
      ]
    },
    {
      "cell_type": "markdown",
      "metadata": {
        "id": "DzGmBbSvEJl2"
      },
      "source": [
        "### Test your model on Random data from your test set"
      ]
    },
    {
      "cell_type": "code",
      "execution_count": 26,
      "metadata": {
        "colab": {
          "base_uri": "https://localhost:8080/",
          "height": 439
        },
        "id": "Sk2hWLGMEJl2",
        "outputId": "99047e3a-0c91-4aa7-bcaa-963ecba99b8e"
      },
      "outputs": [
        {
          "data": {
            "image/png": "[encoded data removed]",
            "text/plain": [
              "<Figure size 500x500 with 1 Axes>"
            ]
          },
          "metadata": {},
          "output_type": "display_data"
        },
        {
          "name": "stdout",
          "output_type": "stream",
          "text": [
            "el valor predicho es: y el valor real es:y\n"
          ]
        }
      ],
      "source": [
        "idx = np.random.randint(len(y_test))\n",
        "plot_number(x_test[idx].reshape(28,28))\n",
        "pred = model.predict(x_test[idx].reshape(-1, 1))\n",
        "print(f'el valor predicho es: {alphabet[pred]} el valor real es:{alphabet[y_test[idx]]}')"
      ]
    },
    {
      "cell_type": "markdown",
      "metadata": {},
      "source": [
        "## Final comments"
      ]
    },
    {
      "cell_type": "markdown",
      "metadata": {},
      "source": [
        "We can see how actual NN works behind the scenes of all those libraries specialized in using these types of models. The only caveat on using just numpy is we can't actually get any better unless we implement other techniques for improving the gradient descent algorithm. In this case, since there was no optimizer like Adam or Adaline we can't be certain that our best accuracy with the given architecture was actually that value or if it can reach even higher. Nevertheless, a very interesting activity."
      ]
    }
  ],
  "metadata": {
    "colab": {
      "provenance": []
    },
    "kernelspec": {
      "display_name": "Python 3 (ipykernel)",
      "language": "python",
      "name": "python3"
    },
    "language_info": {
      "codemirror_mode": {
        "name": "ipython",
        "version": 3
      },
      "file_extension": ".py",
      "mimetype": "text/x-python",
      "name": "python",
      "nbconvert_exporter": "python",
      "pygments_lexer": "ipython3",
      "version": "3.8.13"
    },
    "toc": {
      "base_numbering": 1,
      "nav_menu": {},
      "number_sections": true,
      "sideBar": true,
      "skip_h1_title": false,
      "title_cell": "Table of Contents",
      "title_sidebar": "Contents",
      "toc_cell": false,
      "toc_position": {},
      "toc_section_display": true,
      "toc_window_display": false
    },
    "varInspector": {
      "cols": {
        "lenName": 16,
        "lenType": 16,
        "lenVar": 40
      },
      "kernels_config": {
        "python": {
          "delete_cmd_postfix": "",
          "delete_cmd_prefix": "del ",
          "library": "var_list.py",
          "varRefreshCmd": "print(var_dic_list())"
        },
        "r": {
          "delete_cmd_postfix": ") ",
          "delete_cmd_prefix": "rm(",
          "library": "var_list.r",
          "varRefreshCmd": "cat(var_dic_list()) "
        }
      },
      "types_to_exclude": [
        "module",
        "function",
        "builtin_function_or_method",
        "instance",
        "_Feature"
      ],
      "window_display": false
    }
  },
  "nbformat": 4,
  "nbformat_minor": 0
}
