{
 "cells": [
  {
   "cell_type": "markdown",
   "id": "c6142099",
   "metadata": {},
   "source": [
    "## TC 5033\n",
    "### Word Embeddings\n",
    "\n",
    "<br>\n",
    "\n",
    "#### Activity 3a: Exploring Word Embeddings with GloVe and Numpy\n",
    "<br>\n",
    "\n",
    "- Objective:\n",
    "    - To understand the concept of word embeddings and their significance in Natural Language Processing.\n",
    "    - To learn how to manipulate and visualize high-dimensional data using dimensionality reduction techniques like PCA and t-SNE.\n",
    "    - To gain hands-on experience in implementing word similarity and analogies using GloVe embeddings and Numpy.\n",
    "    \n",
    "<br>\n",
    "\n",
    "- Instructions:\n",
    "    - Download GloVe pre-trained vectors from the provided link in Canvas, the official public project: \n",
    "    Jeffrey Pennington, Richard Socher, and Christopher D. Manning. 2014. GloVe: Global Vectors for Word Representation\n",
    "    https://nlp.stanford.edu/data/glove.6B.zip\n",
    "\n",
    "    - Create a dictorionay of the embeddings so that you carry out fast look ups. Save that dictionary e.g. as a serialized file for faster loading in future uses.\n",
    "    \n",
    "    - PCA and t-SNE Visualization: After loading the GloVe embeddings, use Numpy and Sklearn to perform PCA and t-SNE to reduce the dimensionality of the embeddings and visualize them in a 2D or 3D space.\n",
    "\n",
    "    - Word Similarity: Implement a function that takes a word as input and returns the 'n' most similar words based on their embeddings. You should use Numpy to implement this function, using libraries that already implement this function (e.g. Gensim) will result in zero points.\n",
    "\n",
    "    - Word Analogies: Implement a function to solve analogies between words. For example, \"man is to king as woman is to ____\". You should use Numpy to implement this function, using libraries that already implement this function (e.g. Gensim) will result in zero points.\n",
    "\n",
    "    - Submission: This activity is to be submitted in teams of 3 or 4. Only one person should submit the final work, with the full names of all team members included in a markdown cell at the beginning of the notebook.\n",
    "    \n",
    "<br>\n",
    "\n",
    "- Evaluation Criteria:\n",
    "\n",
    "    - Code Quality (40%): Your code should be well-organized, clearly commented, and easy to follow. Use also markdown cells for clarity.\n",
    "    \n",
    "   - Functionality (60%): All functions should work as intended, without errors.\n",
    "       - Visualization of PCA and t-SNE (10% each for a total of 20%)\n",
    "       - Similarity function (20%)\n",
    "       - Analogy function (20%)\n",
    "|\n",
    "\n"
   ]
  },
  {
   "cell_type": "markdown",
   "metadata": {},
   "source": [
    "# **Maestría en Inteligencia Artificial Aplicada**\n",
    "## **Subject: Advance Machine Learning Methods**\n",
    "### Tecnológico de Monterrey\n",
    "### Jose Antonio Cantoral Ceballos\n",
    "\n",
    "## Activity 3a: Exploring Word Embeddings with GloVe and Numpy"
   ]
  },
  {
   "cell_type": "markdown",
   "metadata": {},
   "source": [
    "**Names and IDs of team members:**\n",
    "\n",
    "|Nombre|Matrícula|\n",
    "|:---|:---|\n",
    "| Rodrigo López Aguilera | A01793071 |\n",
    "| Diego Carrera Nicholls | A00464290 |\n",
    "| Zmaltzin Paola Godinez Juarez | A01793548 |\n",
    "| Ruben Guerrero del Fierro | A01793005 |"
   ]
  },
  {
   "cell_type": "markdown",
   "id": "329dd09a",
   "metadata": {},
   "source": [
    "#### Import libraries"
   ]
  },
  {
   "cell_type": "code",
   "execution_count": 3,
   "id": "4af04b9d",
   "metadata": {},
   "outputs": [],
   "source": [
    "# Import libraries\n",
    "import torch.nn.functional as F\n",
    "from sklearn.manifold import TSNE\n",
    "from sklearn.decomposition import PCA\n",
    "import matplotlib.pyplot as plt\n",
    "import numpy as np\n",
    "from numpy.linalg import norm\n",
    "import pickle\n",
    "plt.style.use('ggplot')\n"
   ]
  },
  {
   "cell_type": "markdown",
   "id": "8712cf42",
   "metadata": {},
   "source": [
    "#### Load file"
   ]
  },
  {
   "cell_type": "code",
   "execution_count": 4,
   "id": "8c3c9d2a",
   "metadata": {},
   "outputs": [],
   "source": [
    "# PATH = '/media/pepe/DataUbuntu/Databases/glove_embeddings/glove.6B.200d.txt'\n",
    "# PATH = './glove/glove.6B.50d.txt'\n",
    "emb_dim = 50\n",
    "PATH = f'./glove/glove.6B.{emb_dim}d.txt'\n"
   ]
  },
  {
   "cell_type": "markdown",
   "metadata": {},
   "source": [
    "This function loads the file and returns a dictionary with the words and their embeddings.\n",
    "\n",
    "The format of the file is as follows:\n",
    "\n",
    "```\n",
    "word1 0.123 0.456 0.789 0.012 0.345 0.678\n",
    "```\n",
    "\n",
    "The first element is the word and the rest are the embeddings."
   ]
  },
  {
   "cell_type": "code",
   "execution_count": 5,
   "id": "25a1eae6",
   "metadata": {
    "code_folding": []
   },
   "outputs": [],
   "source": [
    "# Create dictionary with embeddings\n",
    "def create_emb_dictionary(path):\n",
    "    \"\"\"\n",
    "    Create dictionary with embeddings from glove file\n",
    "    :param path: path to glove file\n",
    "    \"\"\"\n",
    "    emb_dict = {}\n",
    "    with open(path, 'r') as f:\n",
    "        for line in f:\n",
    "            values = line.split(' ')\n",
    "            word = values[0]\n",
    "            vector = np.asarray(values[1:], dtype='float32')\n",
    "            emb_dict[word] = vector\n",
    "    return emb_dict\n"
   ]
  },
  {
   "cell_type": "markdown",
   "metadata": {},
   "source": [
    "Here we create the dictionary with the embeddings\n",
    "and we print how many words are in the dictionary."
   ]
  },
  {
   "cell_type": "code",
   "execution_count": 6,
   "id": "347a0e5e",
   "metadata": {
    "code_folding": []
   },
   "outputs": [
    {
     "name": "stdout",
     "output_type": "stream",
     "text": [
      "Dictionary created\n",
      "Number of words in dictionary:  400000\n"
     ]
    }
   ],
   "source": [
    "# create dictionary\n",
    "embeddings_dict = create_emb_dictionary(PATH)\n",
    "print('Dictionary created')\n",
    "print('Number of words in dictionary: ', len(embeddings_dict))\n"
   ]
  },
  {
   "cell_type": "markdown",
   "metadata": {},
   "source": [
    "On the next cell we save the dictionary to a pickle file so we can load it faster in the future."
   ]
  },
  {
   "cell_type": "code",
   "execution_count": 7,
   "id": "1f01b760",
   "metadata": {
    "code_folding": [
     1
    ]
   },
   "outputs": [],
   "source": [
    "# Serialize\n",
    "with open(f'./glove/embeddings_dict_{emb_dim}D.pkl', 'wb') as f:\n",
    "    pickle.dump(embeddings_dict, f)\n",
    "\n",
    "# Deserialize\n",
    "# with open('embeddings_dict_200D.pkl', 'rb') as f:\n",
    "#     embeddings_dict = pickle.load(f)\n"
   ]
  },
  {
   "cell_type": "markdown",
   "id": "fd0ab9aa",
   "metadata": {},
   "source": [
    "#### See some embeddings"
   ]
  },
  {
   "cell_type": "markdown",
   "metadata": {},
   "source": [
    "Function that shows de top N words with their embeddings."
   ]
  },
  {
   "cell_type": "code",
   "execution_count": 8,
   "id": "8b0991a9",
   "metadata": {},
   "outputs": [],
   "source": [
    "# Show some\n",
    "def show_n_first_words(path, n_words):\n",
    "    \"\"\"\n",
    "    Show first n words from glove file\n",
    "    :param path: path to glove file\n",
    "    :param n_words: number of words to show\n",
    "    \"\"\"\n",
    "    with open(path, 'r') as f:\n",
    "        for i, line in enumerate(f):\n",
    "            print(line.split(), len(line.split()[1:]))\n",
    "            if i>=n_words: break\n"
   ]
  },
  {
   "cell_type": "code",
   "execution_count": 9,
   "id": "a16259ec",
   "metadata": {},
   "outputs": [
    {
     "name": "stdout",
     "output_type": "stream",
     "text": [
      "['the', '0.418', '0.24968', '-0.41242', '0.1217', '0.34527', '-0.044457', '-0.49688', '-0.17862', '-0.00066023', '-0.6566', '0.27843', '-0.14767', '-0.55677', '0.14658', '-0.0095095', '0.011658', '0.10204', '-0.12792', '-0.8443', '-0.12181', '-0.016801', '-0.33279', '-0.1552', '-0.23131', '-0.19181', '-1.8823', '-0.76746', '0.099051', '-0.42125', '-0.19526', '4.0071', '-0.18594', '-0.52287', '-0.31681', '0.00059213', '0.0074449', '0.17778', '-0.15897', '0.012041', '-0.054223', '-0.29871', '-0.15749', '-0.34758', '-0.045637', '-0.44251', '0.18785', '0.0027849', '-0.18411', '-0.11514', '-0.78581'] 50\n",
      "[',', '0.013441', '0.23682', '-0.16899', '0.40951', '0.63812', '0.47709', '-0.42852', '-0.55641', '-0.364', '-0.23938', '0.13001', '-0.063734', '-0.39575', '-0.48162', '0.23291', '0.090201', '-0.13324', '0.078639', '-0.41634', '-0.15428', '0.10068', '0.48891', '0.31226', '-0.1252', '-0.037512', '-1.5179', '0.12612', '-0.02442', '-0.042961', '-0.28351', '3.5416', '-0.11956', '-0.014533', '-0.1499', '0.21864', '-0.33412', '-0.13872', '0.31806', '0.70358', '0.44858', '-0.080262', '0.63003', '0.32111', '-0.46765', '0.22786', '0.36034', '-0.37818', '-0.56657', '0.044691', '0.30392'] 50\n",
      "['.', '0.15164', '0.30177', '-0.16763', '0.17684', '0.31719', '0.33973', '-0.43478', '-0.31086', '-0.44999', '-0.29486', '0.16608', '0.11963', '-0.41328', '-0.42353', '0.59868', '0.28825', '-0.11547', '-0.041848', '-0.67989', '-0.25063', '0.18472', '0.086876', '0.46582', '0.015035', '0.043474', '-1.4671', '-0.30384', '-0.023441', '0.30589', '-0.21785', '3.746', '0.0042284', '-0.18436', '-0.46209', '0.098329', '-0.11907', '0.23919', '0.1161', '0.41705', '0.056763', '-6.3681e-05', '0.068987', '0.087939', '-0.10285', '-0.13931', '0.22314', '-0.080803', '-0.35652', '0.016413', '0.10216'] 50\n",
      "['of', '0.70853', '0.57088', '-0.4716', '0.18048', '0.54449', '0.72603', '0.18157', '-0.52393', '0.10381', '-0.17566', '0.078852', '-0.36216', '-0.11829', '-0.83336', '0.11917', '-0.16605', '0.061555', '-0.012719', '-0.56623', '0.013616', '0.22851', '-0.14396', '-0.067549', '-0.38157', '-0.23698', '-1.7037', '-0.86692', '-0.26704', '-0.2589', '0.1767', '3.8676', '-0.1613', '-0.13273', '-0.68881', '0.18444', '0.0052464', '-0.33874', '-0.078956', '0.24185', '0.36576', '-0.34727', '0.28483', '0.075693', '-0.062178', '-0.38988', '0.22902', '-0.21617', '-0.22562', '-0.093918', '-0.80375'] 50\n",
      "['to', '0.68047', '-0.039263', '0.30186', '-0.17792', '0.42962', '0.032246', '-0.41376', '0.13228', '-0.29847', '-0.085253', '0.17118', '0.22419', '-0.10046', '-0.43653', '0.33418', '0.67846', '0.057204', '-0.34448', '-0.42785', '-0.43275', '0.55963', '0.10032', '0.18677', '-0.26854', '0.037334', '-2.0932', '0.22171', '-0.39868', '0.20912', '-0.55725', '3.8826', '0.47466', '-0.95658', '-0.37788', '0.20869', '-0.32752', '0.12751', '0.088359', '0.16351', '-0.21634', '-0.094375', '0.018324', '0.21048', '-0.03088', '-0.19722', '0.082279', '-0.09434', '-0.073297', '-0.064699', '-0.26044'] 50\n",
      "['and', '0.26818', '0.14346', '-0.27877', '0.016257', '0.11384', '0.69923', '-0.51332', '-0.47368', '-0.33075', '-0.13834', '0.2702', '0.30938', '-0.45012', '-0.4127', '-0.09932', '0.038085', '0.029749', '0.10076', '-0.25058', '-0.51818', '0.34558', '0.44922', '0.48791', '-0.080866', '-0.10121', '-1.3777', '-0.10866', '-0.23201', '0.012839', '-0.46508', '3.8463', '0.31362', '0.13643', '-0.52244', '0.3302', '0.33707', '-0.35601', '0.32431', '0.12041', '0.3512', '-0.069043', '0.36885', '0.25168', '-0.24517', '0.25381', '0.1367', '-0.31178', '-0.6321', '-0.25028', '-0.38097'] 50\n"
     ]
    }
   ],
   "source": [
    "show_n_first_words(PATH, 5)\n"
   ]
  },
  {
   "cell_type": "markdown",
   "id": "ff828123",
   "metadata": {},
   "source": [
    "### Plot some embeddings"
   ]
  },
  {
   "cell_type": "markdown",
   "metadata": {},
   "source": [
    "We created a function that plots the embeddings of the words in a 2D space, using either PCA or TSNE por dimensionality reduction.\n",
    "\n",
    "The function applies the dimensionality reduction technique to the embeddings and then plots the words in a 2D space using a scatter plot.\n",
    "\n"
   ]
  },
  {
   "cell_type": "code",
   "execution_count": 10,
   "id": "3d3ffaa4",
   "metadata": {},
   "outputs": [],
   "source": [
    "plt.rcParams.update({'font.size': 8})\n",
    "def plot_embeddings(emb_path, words2show, emb_dim, embeddings_dict, func = PCA):\n",
    "    \"\"\"\n",
    "    Plot embeddings\n",
    "    :param emb_path: path to glove file\n",
    "    :param words2show: list of words to show\n",
    "    :param emb_dim: dimension of embeddings\n",
    "    :param embeddings_dict: dictionary with embeddings\n",
    "    :param func: function to apply to embeddings\n",
    "    \"\"\"\n",
    "    # Create embeddings matrix\n",
    "    embeddings = np.zeros((len(words2show), emb_dim))\n",
    "    for i, word in enumerate(words2show):\n",
    "        embeddings[i] = embeddings_dict[word]\n",
    "    # Apply PCA\n",
    "    embeddings = func(n_components=2).fit_transform(embeddings)\n",
    "    # Plot\n",
    "    plt.figure(figsize=(10,10))\n",
    "    plt.scatter(embeddings[:,0], embeddings[:,1], c='r')\n",
    "    for i, word in enumerate(words2show):\n",
    "        plt.annotate(word, xy=(embeddings[i,0], embeddings[i,1]), xytext=(5,2), textcoords='offset points', ha='center', va='bottom')\n",
    "    plt.show()\n"
   ]
  },
  {
   "cell_type": "code",
   "execution_count": 11,
   "id": "9b1b120a",
   "metadata": {},
   "outputs": [],
   "source": [
    "words= ['burger', 'tortilla', 'bread', 'pizza', 'beef', 'steak', 'fries', 'chips',\n",
    "            'argentina', 'mexico', 'spain', 'usa', 'france', 'italy', 'greece', 'china',\n",
    "            'water', 'beer', 'tequila', 'wine', 'whisky', 'brandy', 'vodka', 'coffee', 'tea',\n",
    "            'apple', 'banana', 'orange', 'lemon', 'grapefruit', 'grape', 'strawberry', 'raspberry',\n",
    "            'school', 'work', 'university', 'highschool']\n"
   ]
  },
  {
   "cell_type": "markdown",
   "metadata": {},
   "source": [
    "In this case we used PCA to reduce the dimensionality of the embeddings to 2D."
   ]
  },
  {
   "cell_type": "code",
   "execution_count": 12,
   "id": "87d33789",
   "metadata": {},
   "outputs": [
    {
     "data": {
      "image/png": "[encoded data removed]",
      "text/plain": [
       "<Figure size 1000x1000 with 1 Axes>"
      ]
     },
     "metadata": {},
     "output_type": "display_data"
    }
   ],
   "source": [
    "#\n",
    "plot_embeddings(PATH, words, emb_dim, embeddings_dict, PCA)\n"
   ]
  },
  {
   "cell_type": "markdown",
   "metadata": {},
   "source": [
    "Here we are plotting the embeddings with TSNE."
   ]
  },
  {
   "cell_type": "code",
   "execution_count": 13,
   "id": "f22bacb4",
   "metadata": {},
   "outputs": [
    {
     "name": "stderr",
     "output_type": "stream",
     "text": [
      "/Users/chango/Documents/Maestria/Advanced ML/venv/lib/python3.11/site-packages/threadpoolctl.py:1010: RuntimeWarning: \n",
      "Found Intel OpenMP ('libiomp') and LLVM OpenMP ('libomp') loaded at\n",
      "the same time. Both libraries are known to be incompatible and this\n",
      "can cause random crashes or deadlocks on Linux when loaded in the\n",
      "same Python program.\n",
      "Using threadpoolctl may cause crashes or deadlocks. For more\n",
      "information and possible workarounds, please see\n",
      "    https://github.com/joblib/threadpoolctl/blob/master/multiple_openmp.md\n",
      "\n",
      "  warnings.warn(msg, RuntimeWarning)\n"
     ]
    },
    {
     "data": {
      "image/png": "[encoded data removed]",
      "text/plain": [
       "<Figure size 1000x1000 with 1 Axes>"
      ]
     },
     "metadata": {},
     "output_type": "display_data"
    }
   ],
   "source": [
    "# t-SNE dimensionality reduction for visualization\n",
    "embeddings = plot_embeddings(PATH, words, emb_dim, embeddings_dict, TSNE)\n"
   ]
  },
  {
   "cell_type": "markdown",
   "id": "8211b7f1",
   "metadata": {},
   "source": [
    "### Let us compute analogies"
   ]
  },
  {
   "cell_type": "markdown",
   "metadata": {},
   "source": [
    "For computing analogies the principal idea is to find the vector that represents the relationship between the first pair of words, and then add that vector to the third word to find the fourth word, searching for the closest embedding to the result.\n",
    "\n",
    "WORD2 - WORD1 + WORD3 = WORD4\n",
    "\n"
   ]
  },
  {
   "cell_type": "code",
   "execution_count": 14,
   "id": "0003ce18",
   "metadata": {},
   "outputs": [],
   "source": [
    "# analogy\n",
    "def analogy(word1, word2, word3, embeddings_dict):\n",
    "    \"\"\"\n",
    "    Find the best word for the analogy: word1 is to word2 as word3 is to ?\n",
    "    :param word1: first word\n",
    "    :param word2: second word\n",
    "    :param word3: third word\n",
    "    :param embeddings_dict: dictionary with embeddings\n",
    "    \"\"\"\n",
    "    word4 = embeddings_dict[word2] - embeddings_dict[word1] + embeddings_dict[word3]\n",
    "    min_dist = 100\n",
    "    best_word = ''\n",
    "    for word in embeddings_dict:\n",
    "        if word in [word1, word2, word3]:\n",
    "            continue\n",
    "        dist = norm(embeddings_dict[word] - word4)\n",
    "        if dist < min_dist:\n",
    "            min_dist = dist\n",
    "            best_word = word\n",
    "    return best_word\n",
    "\n",
    "\n"
   ]
  },
  {
   "cell_type": "markdown",
   "metadata": {},
   "source": [
    "Here we test the analogy function with some examples:"
   ]
  },
  {
   "cell_type": "code",
   "execution_count": 21,
   "id": "9c02ec01",
   "metadata": {},
   "outputs": [
    {
     "name": "stdout",
     "output_type": "stream",
     "text": [
      "queen\n",
      "spanish\n"
     ]
    }
   ],
   "source": [
    "print(analogy('man', 'king', 'woman', embeddings_dict))\n",
    "print(analogy('mexico', 'mexican', 'spain', embeddings_dict))\n",
    "\n"
   ]
  },
  {
   "cell_type": "markdown",
   "metadata": {},
   "source": [
    "Next we define a function that computes the similarity between two words using the cosine similarity.\n",
    "\n",
    "Which is defined as:\n",
    "the dot product of the two vectors divided by the product of the magnitudes of the vectors.\n",
    "\n",
    "After computing the similarity between the two words, we sort the words by their similarity and return the top N words."
   ]
  },
  {
   "cell_type": "code",
   "execution_count": 16,
   "id": "bb50e0f7",
   "metadata": {},
   "outputs": [],
   "source": [
    "# most similar\n",
    "def find_most_similar(word, embeddings_dict, top_n=10):\n",
    "    \"\"\"\n",
    "    Find the top_n most similar words to word\n",
    "    :param word: word\n",
    "    :param embeddings_dict: dictionary with embeddings\n",
    "    :param top_n: number of most similar words to return\n",
    "    \"\"\"\n",
    "    # find the top_n most similar words to word\n",
    "    similarities = {}\n",
    "    for w in embeddings_dict:\n",
    "        # skip the word itself\n",
    "        if w == word:\n",
    "            continue\n",
    "        # cosine similarity\n",
    "        # dot product of the two vectors, divided by the product of their lengths (norms).\n",
    "        similarities[w] = np.dot(embeddings_dict[w], embeddings_dict[word]) / (norm(embeddings_dict[w]) * norm(embeddings_dict[word]))\n",
    "    return sorted(similarities.items(), key=lambda x: x[1], reverse=True)[:top_n]\n",
    "\n"
   ]
  },
  {
   "cell_type": "markdown",
   "metadata": {},
   "source": [
    "Finally we test the similarity function with some examples"
   ]
  },
  {
   "cell_type": "code",
   "execution_count": 17,
   "id": "7946d712",
   "metadata": {},
   "outputs": [],
   "source": [
    "most_similar = find_most_similar('dog', embeddings_dict)\n"
   ]
  },
  {
   "cell_type": "code",
   "execution_count": 18,
   "id": "3b6e0ea1",
   "metadata": {},
   "outputs": [
    {
     "name": "stdout",
     "output_type": "stream",
     "text": [
      "1 ---> cat\n",
      "2 ---> dogs\n",
      "3 ---> horse\n",
      "4 ---> puppy\n",
      "5 ---> pet\n",
      "6 ---> rabbit\n",
      "7 ---> pig\n",
      "8 ---> snake\n",
      "9 ---> baby\n",
      "10 ---> bite\n"
     ]
    }
   ],
   "source": [
    "for i, w in enumerate(most_similar, 1):\n",
    "    print(f'{i} ---> {w[0]}')\n"
   ]
  },
  {
   "cell_type": "markdown",
   "metadata": {},
   "source": [
    "# Conclusions\n",
    "\n",
    "In this activity we learned how to use word embeddings to represent words as vectors, and how to use them to compute analogies and similarities between words.\n",
    "\n",
    "We also learned how to use dimensionality reduction techniques to help us visualize how embeddings are related to each other even though they are in a high dimensional space."
   ]
  }
 ],
 "metadata": {
  "kernelspec": {
   "display_name": "Python 3 (ipykernel)",
   "language": "python",
   "name": "python3"
  },
  "language_info": {
   "codemirror_mode": {
    "name": "ipython",
    "version": 3
   },
   "file_extension": ".py",
   "mimetype": "text/x-python",
   "name": "python",
   "nbconvert_exporter": "python",
   "pygments_lexer": "ipython3",
   "version": "3.11.6"
  },
  "varInspector": {
   "cols": {
    "lenName": 16,
    "lenType": 16,
    "lenVar": 40
   },
   "kernels_config": {
    "python": {
     "delete_cmd_postfix": "",
     "delete_cmd_prefix": "del ",
     "library": "var_list.py",
     "varRefreshCmd": "print(var_dic_list())"
    },
    "r": {
     "delete_cmd_postfix": ") ",
     "delete_cmd_prefix": "rm(",
     "library": "var_list.r",
     "varRefreshCmd": "cat(var_dic_list()) "
    }
   },
   "types_to_exclude": [
    "module",
    "function",
    "builtin_function_or_method",
    "instance",
    "_Feature"
   ],
   "window_display": false
  }
 },
 "nbformat": 4,
 "nbformat_minor": 5
}
